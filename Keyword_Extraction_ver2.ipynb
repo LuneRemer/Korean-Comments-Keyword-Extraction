{
  "nbformat": 4,
  "nbformat_minor": 0,
  "metadata": {
    "colab": {
      "name": "Keyword_Extraction_ver2.ipynb",
      "provenance": [],
      "collapsed_sections": [],
      "mount_file_id": "1nQ1kAZOXBAkMuwfn4CtF38WkwANBp53n",
      "authorship_tag": "ABX9TyNi/p3ei7HUt+hAlCTJ0w5j",
      "include_colab_link": true
    },
    "kernelspec": {
      "name": "python3",
      "display_name": "Python 3"
    },
    "language_info": {
      "name": "python"
    }
  },
  "cells": [
    {
      "cell_type": "markdown",
      "metadata": {
        "id": "view-in-github",
        "colab_type": "text"
      },
      "source": [
        "<a href=\"https://colab.research.google.com/github/LuneRemer/Korean-Comments-Keyword-Extraction/blob/main/Keyword_Extraction_ver2.ipynb\" target=\"_parent\"><img src=\"https://colab.research.google.com/assets/colab-badge.svg\" alt=\"Open In Colab\"/></a>"
      ]
    },
    {
      "cell_type": "code",
      "metadata": {
        "colab": {
          "base_uri": "https://localhost:8080/"
        },
        "id": "qe0P-5iQATzZ",
        "outputId": "9d3279aa-1318-4301-b8ee-5af56fee5f07"
      },
      "source": [
        "!pip install requests_html"
      ],
      "execution_count": 1,
      "outputs": [
        {
          "output_type": "stream",
          "name": "stdout",
          "text": [
            "Collecting requests_html\n",
            "  Downloading requests_html-0.10.0-py3-none-any.whl (13 kB)\n",
            "Collecting fake-useragent\n",
            "  Downloading fake-useragent-0.1.11.tar.gz (13 kB)\n",
            "Collecting w3lib\n",
            "  Downloading w3lib-1.22.0-py2.py3-none-any.whl (20 kB)\n",
            "Collecting parse\n",
            "  Downloading parse-1.19.0.tar.gz (30 kB)\n",
            "Requirement already satisfied: bs4 in /usr/local/lib/python3.7/dist-packages (from requests_html) (0.0.1)\n",
            "Requirement already satisfied: requests in /usr/local/lib/python3.7/dist-packages (from requests_html) (2.23.0)\n",
            "Collecting pyquery\n",
            "  Downloading pyquery-1.4.3-py3-none-any.whl (22 kB)\n",
            "Collecting pyppeteer>=0.0.14\n",
            "  Downloading pyppeteer-0.2.6-py3-none-any.whl (83 kB)\n",
            "\u001b[K     |████████████████████████████████| 83 kB 2.7 MB/s \n",
            "\u001b[?25hCollecting pyee<9.0.0,>=8.1.0\n",
            "  Downloading pyee-8.2.2-py2.py3-none-any.whl (12 kB)\n",
            "Requirement already satisfied: tqdm<5.0.0,>=4.42.1 in /usr/local/lib/python3.7/dist-packages (from pyppeteer>=0.0.14->requests_html) (4.62.3)\n",
            "Requirement already satisfied: appdirs<2.0.0,>=1.4.3 in /usr/local/lib/python3.7/dist-packages (from pyppeteer>=0.0.14->requests_html) (1.4.4)\n",
            "Collecting urllib3<2.0.0,>=1.25.8\n",
            "  Downloading urllib3-1.26.7-py2.py3-none-any.whl (138 kB)\n",
            "\u001b[K     |████████████████████████████████| 138 kB 61.6 MB/s \n",
            "\u001b[?25hCollecting websockets<10.0,>=9.1\n",
            "  Downloading websockets-9.1-cp37-cp37m-manylinux2010_x86_64.whl (103 kB)\n",
            "\u001b[K     |████████████████████████████████| 103 kB 50.0 MB/s \n",
            "\u001b[?25hRequirement already satisfied: importlib-metadata>=1.4 in /usr/local/lib/python3.7/dist-packages (from pyppeteer>=0.0.14->requests_html) (4.8.1)\n",
            "Requirement already satisfied: zipp>=0.5 in /usr/local/lib/python3.7/dist-packages (from importlib-metadata>=1.4->pyppeteer>=0.0.14->requests_html) (3.6.0)\n",
            "Requirement already satisfied: typing-extensions>=3.6.4 in /usr/local/lib/python3.7/dist-packages (from importlib-metadata>=1.4->pyppeteer>=0.0.14->requests_html) (3.7.4.3)\n",
            "Requirement already satisfied: beautifulsoup4 in /usr/local/lib/python3.7/dist-packages (from bs4->requests_html) (4.6.3)\n",
            "Collecting cssselect>0.7.9\n",
            "  Downloading cssselect-1.1.0-py2.py3-none-any.whl (16 kB)\n",
            "Requirement already satisfied: lxml>=2.1 in /usr/local/lib/python3.7/dist-packages (from pyquery->requests_html) (4.2.6)\n",
            "Requirement already satisfied: chardet<4,>=3.0.2 in /usr/local/lib/python3.7/dist-packages (from requests->requests_html) (3.0.4)\n",
            "Requirement already satisfied: idna<3,>=2.5 in /usr/local/lib/python3.7/dist-packages (from requests->requests_html) (2.10)\n",
            "Collecting urllib3<2.0.0,>=1.25.8\n",
            "  Downloading urllib3-1.25.11-py2.py3-none-any.whl (127 kB)\n",
            "\u001b[K     |████████████████████████████████| 127 kB 62.2 MB/s \n",
            "\u001b[?25hRequirement already satisfied: certifi>=2017.4.17 in /usr/local/lib/python3.7/dist-packages (from requests->requests_html) (2021.5.30)\n",
            "Requirement already satisfied: six>=1.4.1 in /usr/local/lib/python3.7/dist-packages (from w3lib->requests_html) (1.15.0)\n",
            "Building wheels for collected packages: fake-useragent, parse\n",
            "  Building wheel for fake-useragent (setup.py) ... \u001b[?25l\u001b[?25hdone\n",
            "  Created wheel for fake-useragent: filename=fake_useragent-0.1.11-py3-none-any.whl size=13502 sha256=f059e14368bf4573ff1159751da81ebabeafc19b9b7a787ce86d47f16179067f\n",
            "  Stored in directory: /root/.cache/pip/wheels/ed/f7/62/50ab6c9a0b5567267ab76a9daa9d06315704209b2c5d032031\n",
            "  Building wheel for parse (setup.py) ... \u001b[?25l\u001b[?25hdone\n",
            "  Created wheel for parse: filename=parse-1.19.0-py3-none-any.whl size=24591 sha256=9e2102231273bf98f78eab28af6a896a065af10b2560c491c41ddf86b00adf80\n",
            "  Stored in directory: /root/.cache/pip/wheels/9c/aa/cc/f2228050ccb40f22144b073f15a2c84f11204f29fc0dce028e\n",
            "Successfully built fake-useragent parse\n",
            "Installing collected packages: websockets, urllib3, pyee, cssselect, w3lib, pyquery, pyppeteer, parse, fake-useragent, requests-html\n",
            "  Attempting uninstall: urllib3\n",
            "    Found existing installation: urllib3 1.24.3\n",
            "    Uninstalling urllib3-1.24.3:\n",
            "      Successfully uninstalled urllib3-1.24.3\n",
            "\u001b[31mERROR: pip's dependency resolver does not currently take into account all the packages that are installed. This behaviour is the source of the following dependency conflicts.\n",
            "datascience 0.10.6 requires folium==0.2.1, but you have folium 0.8.3 which is incompatible.\u001b[0m\n",
            "Successfully installed cssselect-1.1.0 fake-useragent-0.1.11 parse-1.19.0 pyee-8.2.2 pyppeteer-0.2.6 pyquery-1.4.3 requests-html-0.10.0 urllib3-1.25.11 w3lib-1.22.0 websockets-9.1\n"
          ]
        }
      ]
    },
    {
      "cell_type": "code",
      "metadata": {
        "colab": {
          "base_uri": "https://localhost:8080/"
        },
        "id": "8ytpnpYmBVpV",
        "outputId": "4c566d96-f9de-4151-ee4d-d5ff4b25cf33"
      },
      "source": [
        "!pip install customized_konlpy"
      ],
      "execution_count": 2,
      "outputs": [
        {
          "output_type": "stream",
          "name": "stdout",
          "text": [
            "Collecting customized_konlpy\n",
            "  Downloading customized_konlpy-0.0.64-py3-none-any.whl (881 kB)\n",
            "\u001b[K     |████████████████████████████████| 881 kB 34.0 MB/s \n",
            "\u001b[?25hCollecting Jpype1>=0.6.1\n",
            "  Downloading JPype1-1.3.0-cp37-cp37m-manylinux_2_5_x86_64.manylinux1_x86_64.whl (448 kB)\n",
            "\u001b[K     |████████████████████████████████| 448 kB 47.9 MB/s \n",
            "\u001b[?25hCollecting konlpy>=0.4.4\n",
            "  Downloading konlpy-0.5.2-py2.py3-none-any.whl (19.4 MB)\n",
            "\u001b[K     |████████████████████████████████| 19.4 MB 1.3 MB/s \n",
            "\u001b[?25hRequirement already satisfied: typing-extensions in /usr/local/lib/python3.7/dist-packages (from Jpype1>=0.6.1->customized_konlpy) (3.7.4.3)\n",
            "Requirement already satisfied: lxml>=4.1.0 in /usr/local/lib/python3.7/dist-packages (from konlpy>=0.4.4->customized_konlpy) (4.2.6)\n",
            "Collecting colorama\n",
            "  Downloading colorama-0.4.4-py2.py3-none-any.whl (16 kB)\n",
            "Requirement already satisfied: tweepy>=3.7.0 in /usr/local/lib/python3.7/dist-packages (from konlpy>=0.4.4->customized_konlpy) (3.10.0)\n",
            "Requirement already satisfied: numpy>=1.6 in /usr/local/lib/python3.7/dist-packages (from konlpy>=0.4.4->customized_konlpy) (1.19.5)\n",
            "Collecting beautifulsoup4==4.6.0\n",
            "  Downloading beautifulsoup4-4.6.0-py3-none-any.whl (86 kB)\n",
            "\u001b[K     |████████████████████████████████| 86 kB 6.4 MB/s \n",
            "\u001b[?25hRequirement already satisfied: requests-oauthlib>=0.7.0 in /usr/local/lib/python3.7/dist-packages (from tweepy>=3.7.0->konlpy>=0.4.4->customized_konlpy) (1.3.0)\n",
            "Requirement already satisfied: six>=1.10.0 in /usr/local/lib/python3.7/dist-packages (from tweepy>=3.7.0->konlpy>=0.4.4->customized_konlpy) (1.15.0)\n",
            "Requirement already satisfied: requests[socks]>=2.11.1 in /usr/local/lib/python3.7/dist-packages (from tweepy>=3.7.0->konlpy>=0.4.4->customized_konlpy) (2.23.0)\n",
            "Requirement already satisfied: oauthlib>=3.0.0 in /usr/local/lib/python3.7/dist-packages (from requests-oauthlib>=0.7.0->tweepy>=3.7.0->konlpy>=0.4.4->customized_konlpy) (3.1.1)\n",
            "Requirement already satisfied: urllib3!=1.25.0,!=1.25.1,<1.26,>=1.21.1 in /usr/local/lib/python3.7/dist-packages (from requests[socks]>=2.11.1->tweepy>=3.7.0->konlpy>=0.4.4->customized_konlpy) (1.25.11)\n",
            "Requirement already satisfied: idna<3,>=2.5 in /usr/local/lib/python3.7/dist-packages (from requests[socks]>=2.11.1->tweepy>=3.7.0->konlpy>=0.4.4->customized_konlpy) (2.10)\n",
            "Requirement already satisfied: certifi>=2017.4.17 in /usr/local/lib/python3.7/dist-packages (from requests[socks]>=2.11.1->tweepy>=3.7.0->konlpy>=0.4.4->customized_konlpy) (2021.5.30)\n",
            "Requirement already satisfied: chardet<4,>=3.0.2 in /usr/local/lib/python3.7/dist-packages (from requests[socks]>=2.11.1->tweepy>=3.7.0->konlpy>=0.4.4->customized_konlpy) (3.0.4)\n",
            "Requirement already satisfied: PySocks!=1.5.7,>=1.5.6 in /usr/local/lib/python3.7/dist-packages (from requests[socks]>=2.11.1->tweepy>=3.7.0->konlpy>=0.4.4->customized_konlpy) (1.7.1)\n",
            "Installing collected packages: Jpype1, colorama, beautifulsoup4, konlpy, customized-konlpy\n",
            "  Attempting uninstall: beautifulsoup4\n",
            "    Found existing installation: beautifulsoup4 4.6.3\n",
            "    Uninstalling beautifulsoup4-4.6.3:\n",
            "      Successfully uninstalled beautifulsoup4-4.6.3\n",
            "Successfully installed Jpype1-1.3.0 beautifulsoup4-4.6.0 colorama-0.4.4 customized-konlpy-0.0.64 konlpy-0.5.2\n"
          ]
        }
      ]
    },
    {
      "cell_type": "code",
      "metadata": {
        "colab": {
          "base_uri": "https://localhost:8080/"
        },
        "id": "msHbmO3d7vIQ",
        "outputId": "64ae1600-768d-4020-a090-9ee75be25474"
      },
      "source": [
        "cd drive/MyDrive/colab/BERT\\ Keyword\\ Extraction"
      ],
      "execution_count": 3,
      "outputs": [
        {
          "output_type": "stream",
          "name": "stdout",
          "text": [
            "/content/drive/MyDrive/colab/BERT Keyword Extraction\n"
          ]
        }
      ]
    },
    {
      "cell_type": "code",
      "metadata": {
        "id": "2QUEADgKAXQL"
      },
      "source": [
        "import json\n",
        "from requests_html import HTMLSession\n",
        "from bs4 import BeautifulSoup\n",
        "\n",
        "from urllib.request import urlopen, Request\n",
        "\n",
        "import re\n",
        "from gensim.models import Word2Vec\n",
        "# from ckonlpy.tag import Okt\n",
        "from ckonlpy.tag import Twitter\n",
        "from sklearn.cluster import KMeans\n",
        "from tqdm import tqdm\n",
        "import pandas as pd\n",
        "from fake_useragent import UserAgent\n",
        "from konlpy.tag import Hannanum"
      ],
      "execution_count": 4,
      "outputs": []
    },
    {
      "cell_type": "code",
      "metadata": {
        "id": "LcRPDvsdAbge"
      },
      "source": [
        "texts_url = []\n",
        "summary_url = []"
      ],
      "execution_count": 5,
      "outputs": []
    },
    {
      "cell_type": "code",
      "metadata": {
        "id": "RpOUcHURAcQk"
      },
      "source": [
        "def crawling_url(url):\n",
        "    global texts_url\n",
        "    global page_url\n",
        "    session = HTMLSession()\n",
        "    res = session.get(url)\n",
        "\n",
        "    soup = BeautifulSoup(res.content, 'html.parser')\n",
        "#     print(soup)\n",
        "    urls = soup.find(\"div\", class_=\"rankingnews_box_wrap _popularRanking\").find_all(\"a\", class_=\"list_title nclicks('RBP.cmtnws')\")    \n",
        "#     print(urls)\n",
        "    print(len(urls))\n",
        "    for x in range(len(urls)):        \n",
        "        check = urls[x]['href']\n",
        "#         print(check)\n",
        "        texts_url.append(check)\n",
        "        if 'mid=shm' in check:\n",
        "            if 'oid=' in check:\n",
        "                if '/main/ranking/read.naver' in check:\n",
        "                    if 'aid=' in check:\n",
        "                        if 'rankingType=RANKING' in check:\n",
        "                            texts_url.append(check)  \n",
        "\n",
        "#* 뉴스기사의 제목을 크롤링\n",
        "def crawling_title(url):\n",
        "    session = HTMLSession()\n",
        "    res = session.get(url)\n",
        "\n",
        "    soup = BeautifulSoup(res.content, 'html.parser')\n",
        "    article = soup.find('div', attrs={'id': 'articleBodyContents'})\n",
        "    title = soup.find('h3', attrs={'id': 'articleTitle'})\n",
        "    if title:\n",
        "        return title.text\n",
        "    else:\n",
        "        return \"No such tag, title\"\n",
        "\n",
        "#* 뉴스기사의 요약문을 크롤링\n",
        "def crawling_brief_article(url):\n",
        "    session = HTMLSession()\n",
        "    res = session.get(url)\n",
        "\n",
        "    json_summary = res.text\n",
        "    json_summary = json_summary.split(\"summary\\\":\\\"\")[1].split(\"\\\"}\")[0]\n",
        "    json_summary = json_summary.replace(\"<br/>\",\"\")\n",
        "\n",
        "    return json_summary\n",
        "\n",
        "#* 뉴스 댓글 api의 resoponse를 json 형식으로 바꿈.\n",
        "def getJson_NewsInfo(resp):\n",
        "    x = 0\n",
        "    while(resp[x] != '{'):\n",
        "        x += 1\n",
        "     # print(response[x:])\n",
        "\n",
        "    z = len(resp)-1\n",
        "    while(resp[z] != '}'):\n",
        "        z -= 1\n",
        "    # print(response[x:y]+'}')\n",
        "\n",
        "    rank_json = json.loads(resp[x:z]+'}')\n",
        "\n",
        "    return rank_json\n",
        "  \n",
        "#* 뉴스의 url에서 oid와 aid를 수집\n",
        "def getOid_Aid(uri):\n",
        "    global oid\n",
        "    global aid\n",
        "    oid.append(uri.split(\"oid=\")[1].split(\"&\")[0])\n",
        "    aid.append(uri.split(\"aid=\")[1].split(\"&ranking\")[0])"
      ],
      "execution_count": 6,
      "outputs": []
    },
    {
      "cell_type": "code",
      "metadata": {
        "id": "TY8HJ15kVl1q"
      },
      "source": [
        "hannanum = Hannanum()"
      ],
      "execution_count": 7,
      "outputs": []
    },
    {
      "cell_type": "code",
      "metadata": {
        "colab": {
          "base_uri": "https://localhost:8080/"
        },
        "id": "p2UdhcinAcXq",
        "outputId": "23adac4b-50fc-4538-c74a-4f293f381218"
      },
      "source": [
        "crawling_url(\"https://news.naver.com/main/ranking/popularMemo.naver\")\n",
        "\n",
        "\n",
        "texts_url = set(texts_url)\n",
        "texts_url = list(texts_url)\n",
        "\n",
        "# print(\"*********url 정보***********\")\n",
        "print(texts_url)\n",
        "print(len(texts_url))\n",
        "\n",
        "\n",
        "oid = []\n",
        "aid = []\n",
        "headers = []\n",
        "com_url = []"
      ],
      "execution_count": 8,
      "outputs": [
        {
          "output_type": "stream",
          "name": "stdout",
          "text": [
            "60\n",
            "['/main/ranking/read.naver?mode=LSD&mid=shm&sid1=001&oid=421&aid=0005642966&rankingType=RANKING', '/main/ranking/read.naver?mode=LSD&mid=shm&sid1=001&oid=214&aid=0001152606&rankingType=RANKING', '/main/ranking/read.naver?mode=LSD&mid=shm&sid1=001&oid=437&aid=0000277857&rankingType=RANKING', '/main/ranking/read.naver?mode=LSD&mid=shm&sid1=001&oid=016&aid=0001896699&rankingType=RANKING', '/main/ranking/read.naver?mode=LSD&mid=shm&sid1=001&oid=052&aid=0001649727&rankingType=RANKING', '/main/ranking/read.naver?mode=LSD&mid=shm&sid1=001&oid=437&aid=0000277859&rankingType=RANKING', '/main/ranking/read.naver?mode=LSD&mid=shm&sid1=001&oid=214&aid=0001152636&rankingType=RANKING', '/main/ranking/read.naver?mode=LSD&mid=shm&sid1=001&oid=023&aid=0003645069&rankingType=RANKING', '/main/ranking/read.naver?mode=LSD&mid=shm&sid1=001&oid=028&aid=0002563048&rankingType=RANKING', '/main/ranking/read.naver?mode=LSD&mid=shm&sid1=001&oid=031&aid=0000627669&rankingType=RANKING', '/main/ranking/read.naver?mode=LSD&mid=shm&sid1=001&oid=056&aid=0011133925&rankingType=RANKING', '/main/ranking/read.naver?mode=LSD&mid=shm&sid1=001&oid=421&aid=0005645339&rankingType=RANKING', '/main/ranking/read.naver?mode=LSD&mid=shm&sid1=001&oid=056&aid=0011133546&rankingType=RANKING', '/main/ranking/read.naver?mode=LSD&mid=shm&sid1=001&oid=028&aid=0002563067&rankingType=RANKING', '/main/ranking/read.naver?mode=LSD&mid=shm&sid1=001&oid=009&aid=0004861951&rankingType=RANKING', '/main/ranking/read.naver?mode=LSD&mid=shm&sid1=001&oid=031&aid=0000627862&rankingType=RANKING', '/main/ranking/read.naver?mode=LSD&mid=shm&sid1=001&oid=031&aid=0000627873&rankingType=RANKING', '/main/ranking/read.naver?mode=LSD&mid=shm&sid1=001&oid=008&aid=0004654116&rankingType=RANKING', '/main/ranking/read.naver?mode=LSD&mid=shm&sid1=001&oid=023&aid=0003645039&rankingType=RANKING', '/main/ranking/read.naver?mode=LSD&mid=shm&sid1=001&oid=214&aid=0001152678&rankingType=RANKING', '/main/ranking/read.naver?mode=LSD&mid=shm&sid1=001&oid=016&aid=0001896624&rankingType=RANKING', '/main/ranking/read.naver?mode=LSD&mid=shm&sid1=001&oid=009&aid=0004862167&rankingType=RANKING', '/main/ranking/read.naver?mode=LSD&mid=shm&sid1=001&oid=031&aid=0000627891&rankingType=RANKING', '/main/ranking/read.naver?mode=LSD&mid=shm&sid1=001&oid=028&aid=0002563087&rankingType=RANKING', '/main/ranking/read.naver?mode=LSD&mid=shm&sid1=001&oid=025&aid=0003140951&rankingType=RANKING', '/main/ranking/read.naver?mode=LSD&mid=shm&sid1=001&oid=052&aid=0001649771&rankingType=RANKING', '/main/ranking/read.naver?mode=LSD&mid=shm&sid1=001&oid=008&aid=0004654081&rankingType=RANKING', '/main/ranking/read.naver?mode=LSD&mid=shm&sid1=001&oid=023&aid=0003645109&rankingType=RANKING', '/main/ranking/read.naver?mode=LSD&mid=shm&sid1=001&oid=025&aid=0003140952&rankingType=RANKING', '/main/ranking/read.naver?mode=LSD&mid=shm&sid1=001&oid=056&aid=0011133742&rankingType=RANKING', '/main/ranking/read.naver?mode=LSD&mid=shm&sid1=001&oid=052&aid=0001649741&rankingType=RANKING', '/main/ranking/read.naver?mode=LSD&mid=shm&sid1=001&oid=437&aid=0000277855&rankingType=RANKING', '/main/ranking/read.naver?mode=LSD&mid=shm&sid1=001&oid=009&aid=0004861609&rankingType=RANKING', '/main/ranking/read.naver?mode=LSD&mid=shm&sid1=001&oid=052&aid=0001649821&rankingType=RANKING', '/main/ranking/read.naver?mode=LSD&mid=shm&sid1=001&oid=025&aid=0003140813&rankingType=RANKING', '/main/ranking/read.naver?mode=LSD&mid=shm&sid1=001&oid=214&aid=0001152623&rankingType=RANKING', '/main/ranking/read.naver?mode=LSD&mid=shm&sid1=001&oid=028&aid=0002563130&rankingType=RANKING', '/main/ranking/read.naver?mode=LSD&mid=shm&sid1=001&oid=437&aid=0000277856&rankingType=RANKING', '/main/ranking/read.naver?mode=LSD&mid=shm&sid1=001&oid=421&aid=0005644880&rankingType=RANKING', '/main/ranking/read.naver?mode=LSD&mid=shm&sid1=001&oid=016&aid=0001896891&rankingType=RANKING', '/main/ranking/read.naver?mode=LSD&mid=shm&sid1=001&oid=056&aid=0011133362&rankingType=RANKING', '/main/ranking/read.naver?mode=LSD&mid=shm&sid1=001&oid=023&aid=0003645129&rankingType=RANKING', '/main/ranking/read.naver?mode=LSD&mid=shm&sid1=001&oid=016&aid=0001896576&rankingType=RANKING', '/main/ranking/read.naver?mode=LSD&mid=shm&sid1=001&oid=031&aid=0000627867&rankingType=RANKING', '/main/ranking/read.naver?mode=LSD&mid=shm&sid1=001&oid=009&aid=0004861987&rankingType=RANKING', '/main/ranking/read.naver?mode=LSD&mid=shm&sid1=001&oid=008&aid=0004654238&rankingType=RANKING', '/main/ranking/read.naver?mode=LSD&mid=shm&sid1=001&oid=023&aid=0003645095&rankingType=RANKING', '/main/ranking/read.naver?mode=LSD&mid=shm&sid1=001&oid=009&aid=0004862003&rankingType=RANKING', '/main/ranking/read.naver?mode=LSD&mid=shm&sid1=001&oid=025&aid=0003140913&rankingType=RANKING', '/main/ranking/read.naver?mode=LSD&mid=shm&sid1=001&oid=214&aid=0001152639&rankingType=RANKING', '/main/ranking/read.naver?mode=LSD&mid=shm&sid1=001&oid=052&aid=0001649759&rankingType=RANKING', '/main/ranking/read.naver?mode=LSD&mid=shm&sid1=001&oid=437&aid=0000277835&rankingType=RANKING', '/main/ranking/read.naver?mode=LSD&mid=shm&sid1=001&oid=028&aid=0002563132&rankingType=RANKING', '/main/ranking/read.naver?mode=LSD&mid=shm&sid1=001&oid=008&aid=0004654155&rankingType=RANKING', '/main/ranking/read.naver?mode=LSD&mid=shm&sid1=001&oid=025&aid=0003140944&rankingType=RANKING', '/main/ranking/read.naver?mode=LSD&mid=shm&sid1=001&oid=421&aid=0005645047&rankingType=RANKING', '/main/ranking/read.naver?mode=LSD&mid=shm&sid1=001&oid=056&aid=0011133712&rankingType=RANKING', '/main/ranking/read.naver?mode=LSD&mid=shm&sid1=001&oid=016&aid=0001896856&rankingType=RANKING', '/main/ranking/read.naver?mode=LSD&mid=shm&sid1=001&oid=008&aid=0004654101&rankingType=RANKING', '/main/ranking/read.naver?mode=LSD&mid=shm&sid1=001&oid=421&aid=0005645218&rankingType=RANKING']\n",
            "60\n"
          ]
        }
      ]
    },
    {
      "cell_type": "code",
      "metadata": {
        "id": "vm6LD6IrWGwv"
      },
      "source": [
        "# p = re.compile(\"[0-9]+\")\n",
        "    # text = p.sub(\" \", text)\n",
        "\n",
        "def pre_processing(title):\n",
        "  title = title.replace(\"\\\"\",'')\n",
        "  title = title.replace(\"…\",\" \")\n",
        "  title = title.replace(\"\\'\",'')\n",
        "  title = title.replace(\"“\",'')\n",
        "  title = title.replace(\"·\",'')  \n",
        "  title = title.replace(\",\",'')  \n",
        "  title = re.sub('([ㄱ-ㅎㅏ-ㅣ]+)', '', title)\n",
        "  title = re.sub('[^a-zA-Z0-9ㄱ-ㅣ가-힣%.]',' ',title)\n",
        "\n",
        "  return title\n",
        "\n",
        "\n",
        "for i in range(len(texts_url)):\n",
        "    texts_url[i] = 'https://news.naver.com' + texts_url[i]"
      ],
      "execution_count": 9,
      "outputs": []
    },
    {
      "cell_type": "code",
      "metadata": {
        "colab": {
          "base_uri": "https://localhost:8080/"
        },
        "id": "JGL-eqSpi-Fd",
        "outputId": "a7d1a469-f270-488d-ea95-684c5ad99c3b"
      },
      "source": [
        "titles = []\n",
        "for i in tqdm(range(len(texts_url))):\n",
        "  titles.append(crawling_title(texts_url[i]))\n",
        "\n",
        "title_array = []\n",
        "for title in titles:\n",
        "  title = pre_processing(title)  \n",
        "  temp = title.split(' ')\n",
        "  title_array.append(temp)"
      ],
      "execution_count": 10,
      "outputs": [
        {
          "output_type": "stream",
          "name": "stderr",
          "text": [
            "100%|██████████| 60/60 [00:28<00:00,  2.08it/s]\n"
          ]
        }
      ]
    },
    {
      "cell_type": "code",
      "metadata": {
        "colab": {
          "base_uri": "https://localhost:8080/"
        },
        "id": "zIU-mobAhZav",
        "outputId": "e51bf29b-83a6-4c09-ee3c-658440b58626"
      },
      "source": [
        "twitter = Twitter()\n",
        "for i in range(len(title_array)):  \n",
        "    twitter.add_dictionary(title_array[i], 'Noun')\n",
        "twitter.add_dictionary('사회주의', 'Noun', force=False)\n",
        "twitter.add_dictionary('공산주의', 'Noun', force=False)\n",
        "twitter.add_dictionary('돈벌이', 'Noun', force=False)\n",
        "twitter.add_dictionary('이죄명', 'Noun', force=False)"
      ],
      "execution_count": 11,
      "outputs": [
        {
          "output_type": "stream",
          "name": "stderr",
          "text": [
            "/usr/local/lib/python3.7/dist-packages/konlpy/tag/_okt.py:16: UserWarning: \"Twitter\" has changed to \"Okt\" since KoNLPy v0.4.5.\n",
            "  warn('\"Twitter\" has changed to \"Okt\" since KoNLPy v0.4.5.')\n"
          ]
        }
      ]
    },
    {
      "cell_type": "code",
      "metadata": {
        "id": "a7MoxtsK44zc"
      },
      "source": [
        "twitter.add_dictionary('대통령', 'Noun', force=False)"
      ],
      "execution_count": 12,
      "outputs": []
    },
    {
      "cell_type": "code",
      "metadata": {
        "id": "5hJ6_9IHeVDX"
      },
      "source": [
        "def han_tokenization(text):\n",
        "  global twitter\n",
        "  global hannanum\n",
        "\n",
        "  #* 명사로 인식하지만, 키워드로써 맞지 않는 단어들\n",
        "  #* 여러 댓글들에서 공통으로 나오는 단어들\n",
        "  text = text.replace(\"한다\",'')\n",
        "  text = text.replace(\"보고\",'')\n",
        "  text = text.replace(\"정말\",'')\n",
        "  text = text.replace(\"구나\",'')\n",
        "  text = text.replace(\"맞고\",'')\n",
        "  text = text.replace(\"아직\",'')\n",
        "  text = text.replace(\"저런\",'')\n",
        "  text = text.replace(\"까지\",'')\n",
        "  text = text.replace(\"닮고\",'')\n",
        "  text = text.replace(\"하나\",'')\n",
        "  text = text.replace(\"그냥\",'')\n",
        "  text = text.replace(\"면서\",'')\n",
        "  text = text.replace(\"하다\",'')\n",
        "  text = text.replace(\"부리고\",'')\n",
        "  text = text.replace(\"진짜\",'')\n",
        "  text = text.replace(\"더니\",'')\n",
        "  text = text.replace(\"던데\",'')\n",
        "  text = text.replace(\"있다\",'')\n",
        "  text = text.replace(\"없다\",'')\n",
        "  text = text.replace(\"만도\",'')\n",
        "  text = text.replace(\"그것\",'')\n",
        "  text = text.replace(\"이것\",'')\n",
        "  text = text.replace(\"이건\",'')\n",
        "  text = text.replace(\"하는\",'')\n",
        "  text = text.replace(\"제발\",'')\n",
        "  text = text.replace(\"이번\",'')\n",
        "  text = text.replace(\"그래서\",'')\n",
        "  text = text.replace(\"주변\",'')\n",
        "  text = text.replace(\"이지\",'')\n",
        "  text = text.replace(\"팔이\",'')\n",
        "  text = text.replace(\"한번\",'')\n",
        "  text = text.replace(\"해먹\",'')\n",
        "  text = text.replace(\"속이\",'')\n",
        "  text = text.replace(\"간다\",'')\n",
        "  text = text.replace(\"이거\",'')\n",
        "  text = text.replace(\"다른\",'')\n",
        "  text = text.replace(\"그만\",'')\n",
        "  text = text.replace(\"하자\",'')\n",
        "  text = text.replace(\"해라\",'')\n",
        "  text = text.replace(\"지금\",'')\n",
        "  text = text.replace(\"때문\",'')\n",
        "  text = text.replace(\"만큼\",'')\n",
        "  text = text.replace(\"이면\",'')\n",
        "  \n",
        "\n",
        "\n",
        "  tag_array = twitter.pos(text)\n",
        "  temp_tag = []\n",
        "  temp_real_tag = []\n",
        "  for i in range(len(tag_array)):\n",
        "    if tag_array[i][1] == 'Noun' or tag_array[i][1] == 'Alpha':\n",
        "      temp_tag.append(tag_array[i][0])\n",
        "  for i in range(len(temp_tag)):\n",
        "    if hannanum.pos(temp_tag[i])[0][1]=='N' or hannanum.pos(temp_tag[i])[0][1]=='F':\n",
        "      temp_real_tag.append(temp_tag[i])\n",
        "  tagged_text = ' '.join(temp_real_tag)\n",
        "  return tagged_text"
      ],
      "execution_count": 13,
      "outputs": []
    },
    {
      "cell_type": "code",
      "metadata": {
        "colab": {
          "base_uri": "https://localhost:8080/"
        },
        "id": "xntDYKQJAccc",
        "outputId": "340a6cef-f2af-4049-ebdb-9aa20a040d5b"
      },
      "source": [
        "for y in range(len(texts_url)):\n",
        "    a = texts_url[y]\n",
        "    getOid_Aid(a)\n",
        "\n",
        "#* https://tts.news.naver.com/article/052/0001647706/summary\n",
        "for i in range(len(texts_url)):\n",
        "    summ_url = \"https://tts.news.naver.com/article/{}/{}/summary\".format(oid[i], aid[i])\n",
        "    summary_url.append(summ_url)\n",
        "\n",
        "\n",
        "for x in range(len(texts_url)):\n",
        "    comps_url = []\n",
        "    for y in range(1, 30):\n",
        "        comps_url.append(\"https://apis.naver.com/commentBox/cbox/web_naver_list_jsonp.json?ticket=news&templateId=default_politics_m1&pool=cbox5&_callback=jQuery1707138182064460843_1523512042464&lang=ko&country=&objectId=news\" +\n",
        "                         oid[x] + \"%2C\" + aid[x] + \"&categoryId=&pageSize=100&indexSize=100&groupId=&listType=OBJECT&pageType=more&page=\" + str(y) + \"&refresh=false&sort=FAVORITE\")\n",
        "    # print(comps_url)\n",
        "    com_url.append(comps_url)\n",
        "# print(com_url[0][1])\n",
        "\n",
        "useragent = UserAgent()\n",
        "\n",
        "for v in range(len(texts_url)):\n",
        "    headers.append({\n",
        "        'referer': texts_url[v],\n",
        "        'User-Agent': useragent.chrome\n",
        "    })\n",
        "\n",
        "print(len(texts_url))\n",
        "print(len(summary_url))"
      ],
      "execution_count": 14,
      "outputs": [
        {
          "output_type": "stream",
          "name": "stderr",
          "text": [
            "Error occurred during loading data. Trying to use cache server https://fake-useragent.herokuapp.com/browsers/0.1.11\n",
            "Traceback (most recent call last):\n",
            "  File \"/usr/local/lib/python3.7/dist-packages/fake_useragent/utils.py\", line 154, in load\n",
            "    for item in get_browsers(verify_ssl=verify_ssl):\n",
            "  File \"/usr/local/lib/python3.7/dist-packages/fake_useragent/utils.py\", line 99, in get_browsers\n",
            "    html = html.split('<table class=\"w3-table-all notranslate\">')[1]\n",
            "IndexError: list index out of range\n"
          ]
        },
        {
          "output_type": "stream",
          "name": "stdout",
          "text": [
            "60\n",
            "60\n"
          ]
        }
      ]
    },
    {
      "cell_type": "code",
      "metadata": {
        "id": "L47pzvJPC27T"
      },
      "source": [
        "from sklearn.metrics import silhouette_score\n",
        "\n",
        "def get_kmeans_k(X):\n",
        "  k_range = range(2,6)\n",
        "\n",
        "  best_n = -1\n",
        "  best_silhouette_score = -1\n",
        "\n",
        "  for k in k_range:\n",
        "    try:\n",
        "      kmeans = KMeans(n_clusters=k)\n",
        "      kmeans.fit(X)\n",
        "      clusters = kmeans.predict(X)\n",
        "\n",
        "      score = silhouette_score(X, clusters)\n",
        "      \n",
        "      if score > best_silhouette_score:\n",
        "        best_n = k\n",
        "        best_silhouette_score = score\n",
        "    except:\n",
        "      continue\n",
        "\n",
        "  return best_n"
      ],
      "execution_count": 17,
      "outputs": []
    },
    {
      "cell_type": "code",
      "metadata": {
        "colab": {
          "base_uri": "https://localhost:8080/"
        },
        "id": "gno27UqGAcfp",
        "outputId": "757345ba-f26e-41f8-9f7f-288e79eccff2"
      },
      "source": [
        "contents_array = []\n",
        "num_comments = 0\n",
        "# keyword = pd.DataFrame(columns=['news_title','keyword_candidate'])\n",
        "df_list = []\n",
        "\n",
        "for v in tqdm(range(len(texts_url))):    \n",
        "    num_comments = 0  \n",
        "    # print('ha')\n",
        "    graph_exists = False\n",
        "    contents_array = []\n",
        "    for y in range(len(com_url[v])):\n",
        "        \n",
        "        resp = urlopen(\n",
        "            Request(com_url[v][y], headers=headers[v])).read().decode('utf-8')\n",
        "        \n",
        "        if not '\"commentList\":[]' in resp:\n",
        "            rank_json = getJson_NewsInfo(resp)\n",
        "            # print(rank_json)\n",
        "\n",
        "            if rank_json['result']['commentList']:\n",
        "                num_comments += len(rank_json['result']['commentList'])\n",
        "                for w in range(len(rank_json['result']['commentList'])):                    \n",
        "                    contents = str(rank_json['result']['commentList'][w]['contents'])\n",
        "                    contents = pre_processing(contents)\n",
        "                    contents_array.append(contents)\n",
        "        else:\n",
        "            break\n",
        "    \n",
        "    for i in range(len(contents_array)):\n",
        "        contents_array[i] = han_tokenization(contents_array[i])\n",
        "    comments_token = []\n",
        "    for i in range(len(contents_array)):\n",
        "        temp = contents_array[i].split(' ')\n",
        "        comments_token.append(temp)\n",
        "\n",
        "    try:\n",
        "        word2vec_model = Word2Vec(comments_token, window=4, min_count=20)\n",
        "    except:\n",
        "        continue\n",
        "    print(\"Done word2vec Training\")\n",
        "\n",
        "    model_word_vector = {}\n",
        "    model_vector_word = {}\n",
        "    for word in word2vec_model.wv.vocab:\n",
        "        model_word_vector[word] = word2vec_model[word]\n",
        "        # print(model_word_vector[word])\n",
        "        model_vector_word[str(word2vec_model[word])] = word\n",
        "\n",
        "    \n",
        "\n",
        "    X = word2vec_model[word2vec_model.wv.vocab]\n",
        "\n",
        "    n = get_kmeans_k(X)\n",
        "\n",
        "    if n == -1:\n",
        "      continue\n",
        "\n",
        "    kmeans = KMeans(n_clusters = n)\n",
        "    kmeans.fit(X)\n",
        "\n",
        "    kmeans_label = kmeans.labels_\n",
        "\n",
        "    word_df = pd.DataFrame(columns=['word', 'cluster'])\n",
        "\n",
        "    word_df['word'] = word2vec_model.wv.vocab\n",
        "    # word_df['cluster'] = dbscan_labels\n",
        "    word_df['cluster'] = kmeans_label\n",
        "\n",
        "    #* group by로 각 클러스터에서 1~2개씩 뽑음 \n",
        "\n",
        "    for i in range(n):\n",
        "      word_cluster_i = word_df.loc[word_df['cluster']==i]\n",
        "\n",
        "      keyword_candidate_count = []\n",
        "      for keyword_candidate in word_cluster_i[\"word\"]:\n",
        "          word_count = 0        \n",
        "          for i in range(len(comments_token)):\n",
        "              for word in comments_token[i]:\n",
        "                  if word in keyword_candidate:\n",
        "                      word_count += 1\n",
        "                  elif keyword_candidate in word:\n",
        "                      word_count += 1\n",
        "          keyword_candidate_count.append(word_count)\n",
        "      word_cluster_i['count'] = keyword_candidate_count\n",
        "      df_i = word_cluster_i.sort_values(by=['count'], ascending=False, ignore_index=True)\n",
        "      length_word_i = []\n",
        "      for j in range(len(df_i)):\n",
        "          length_word_i.append(len(df_i[\"word\"][j]))\n",
        "      df_i['length'] = length_word_i\n",
        "      df_i = df_i.loc[(df_i[\"length\"]>1) & (df_i[\"word\"]!=\"하고\") & (df_i[\"word\"]!=\"이나\") & (df_i[\"word\"]!=\"이제\") & (df_i[\"word\"]!=\"려고\")]\n",
        "      df_i.reset_index(drop=True, inplace=True)\n",
        "\n",
        "      for i in range(0,2):\n",
        "          try:\n",
        "            temp = []\n",
        "            temp.append(titles[v])\n",
        "            temp.append(df_i[\"word\"][i])\n",
        "            # temp.append(word2vec_model.most_similar_cosmul(df_i[\"word\"][i])[0][0])\n",
        "            df_list.append(temp)\n",
        "          except:\n",
        "            continue\n",
        "      print(titles[v])\n",
        "      print(df_i[0:2])\n",
        "      # print(word2vec_model.most_similar_cosmul(df_i[\"word\"][i])[0:2][0])"
      ],
      "execution_count": 19,
      "outputs": [
        {
          "output_type": "stream",
          "name": "stderr",
          "text": [
            "\r  0%|          | 0/60 [00:00<?, ?it/s]"
          ]
        },
        {
          "output_type": "stream",
          "name": "stdout",
          "text": [
            "Done word2vec Training\n"
          ]
        },
        {
          "output_type": "stream",
          "name": "stderr",
          "text": [
            "/usr/local/lib/python3.7/dist-packages/ipykernel_launcher.py:45: DeprecationWarning: Call to deprecated `__getitem__` (Method will be removed in 4.0.0, use self.wv.__getitem__() instead).\n",
            "/usr/local/lib/python3.7/dist-packages/ipykernel_launcher.py:47: DeprecationWarning: Call to deprecated `__getitem__` (Method will be removed in 4.0.0, use self.wv.__getitem__() instead).\n",
            "/usr/local/lib/python3.7/dist-packages/ipykernel_launcher.py:51: DeprecationWarning: Call to deprecated `__getitem__` (Method will be removed in 4.0.0, use self.wv.__getitem__() instead).\n",
            "/usr/local/lib/python3.7/dist-packages/ipykernel_launcher.py:84: SettingWithCopyWarning: \n",
            "A value is trying to be set on a copy of a slice from a DataFrame.\n",
            "Try using .loc[row_indexer,col_indexer] = value instead\n",
            "\n",
            "See the caveats in the documentation: https://pandas.pydata.org/pandas-docs/stable/user_guide/indexing.html#returning-a-view-versus-a-copy\n"
          ]
        },
        {
          "output_type": "stream",
          "name": "stdout",
          "text": [
            "'대장동 딛고'…이재명 44% vs 윤석열 33%, 이재명 40% vs 홍준표 37%\n",
            "   word  cluster  count  length\n",
            "0  여론조사        0    930       4\n",
            "1   이재명        0    849       3\n"
          ]
        },
        {
          "output_type": "stream",
          "name": "stderr",
          "text": [
            "/usr/local/lib/python3.7/dist-packages/ipykernel_launcher.py:84: SettingWithCopyWarning: \n",
            "A value is trying to be set on a copy of a slice from a DataFrame.\n",
            "Try using .loc[row_indexer,col_indexer] = value instead\n",
            "\n",
            "See the caveats in the documentation: https://pandas.pydata.org/pandas-docs/stable/user_guide/indexing.html#returning-a-view-versus-a-copy\n",
            "\r  2%|▏         | 1/60 [00:35<34:41, 35.28s/it]"
          ]
        },
        {
          "output_type": "stream",
          "name": "stdout",
          "text": [
            "'대장동 딛고'…이재명 44% vs 윤석열 33%, 이재명 40% vs 홍준표 37%\n",
            "   word  cluster  count  length\n",
            "0  우리나라        1    589       4\n",
            "1  국민의힘        1    551       4\n",
            "Done word2vec Training\n",
            "'몸통' 김만배 11일 소환‥원유철 부인 화천대유 고문\n",
            "  word  cluster  count  length\n",
            "0   국민        0    210       2\n",
            "1  이재명        0    188       3\n"
          ]
        },
        {
          "output_type": "stream",
          "name": "stderr",
          "text": [
            "/usr/local/lib/python3.7/dist-packages/ipykernel_launcher.py:45: DeprecationWarning: Call to deprecated `__getitem__` (Method will be removed in 4.0.0, use self.wv.__getitem__() instead).\n",
            "/usr/local/lib/python3.7/dist-packages/ipykernel_launcher.py:47: DeprecationWarning: Call to deprecated `__getitem__` (Method will be removed in 4.0.0, use self.wv.__getitem__() instead).\n",
            "/usr/local/lib/python3.7/dist-packages/ipykernel_launcher.py:51: DeprecationWarning: Call to deprecated `__getitem__` (Method will be removed in 4.0.0, use self.wv.__getitem__() instead).\n",
            "/usr/local/lib/python3.7/dist-packages/ipykernel_launcher.py:84: SettingWithCopyWarning: \n",
            "A value is trying to be set on a copy of a slice from a DataFrame.\n",
            "Try using .loc[row_indexer,col_indexer] = value instead\n",
            "\n",
            "See the caveats in the documentation: https://pandas.pydata.org/pandas-docs/stable/user_guide/indexing.html#returning-a-view-versus-a-copy\n",
            "/usr/local/lib/python3.7/dist-packages/ipykernel_launcher.py:84: SettingWithCopyWarning: \n",
            "A value is trying to be set on a copy of a slice from a DataFrame.\n",
            "Try using .loc[row_indexer,col_indexer] = value instead\n",
            "\n",
            "See the caveats in the documentation: https://pandas.pydata.org/pandas-docs/stable/user_guide/indexing.html#returning-a-view-versus-a-copy\n",
            "  3%|▎         | 2/60 [00:43<18:47, 19.44s/it]"
          ]
        },
        {
          "output_type": "stream",
          "name": "stdout",
          "text": [
            "'몸통' 김만배 11일 소환‥원유철 부인 화천대유 고문\n",
            "   word  cluster  count  length\n",
            "0    국짐        1    249       2\n",
            "1  국민의힘        1    242       4\n"
          ]
        },
        {
          "output_type": "stream",
          "name": "stderr",
          "text": [
            "/usr/local/lib/python3.7/dist-packages/ipykernel_launcher.py:45: DeprecationWarning: Call to deprecated `__getitem__` (Method will be removed in 4.0.0, use self.wv.__getitem__() instead).\n",
            "/usr/local/lib/python3.7/dist-packages/ipykernel_launcher.py:47: DeprecationWarning: Call to deprecated `__getitem__` (Method will be removed in 4.0.0, use self.wv.__getitem__() instead).\n",
            "/usr/local/lib/python3.7/dist-packages/ipykernel_launcher.py:51: DeprecationWarning: Call to deprecated `__getitem__` (Method will be removed in 4.0.0, use self.wv.__getitem__() instead).\n",
            "/usr/local/lib/python3.7/dist-packages/ipykernel_launcher.py:84: SettingWithCopyWarning: \n",
            "A value is trying to be set on a copy of a slice from a DataFrame.\n",
            "Try using .loc[row_indexer,col_indexer] = value instead\n",
            "\n",
            "See the caveats in the documentation: https://pandas.pydata.org/pandas-docs/stable/user_guide/indexing.html#returning-a-view-versus-a-copy\n",
            "/usr/local/lib/python3.7/dist-packages/ipykernel_launcher.py:84: SettingWithCopyWarning: \n",
            "A value is trying to be set on a copy of a slice from a DataFrame.\n",
            "Try using .loc[row_indexer,col_indexer] = value instead\n",
            "\n",
            "See the caveats in the documentation: https://pandas.pydata.org/pandas-docs/stable/user_guide/indexing.html#returning-a-view-versus-a-copy\n",
            "\r  5%|▌         | 3/60 [00:47<11:41, 12.31s/it]"
          ]
        },
        {
          "output_type": "stream",
          "name": "stdout",
          "text": [
            "Done word2vec Training\n",
            "국민의힘 2차 컷오프, 원희룡·유승민·윤석열·홍준표 통과\n",
            "  word  cluster  count  length\n",
            "0  유승민        0     65       3\n",
            "1  윤석열        0     54       3\n",
            "국민의힘 2차 컷오프, 원희룡·유승민·윤석열·홍준표 통과\n",
            "  word  cluster  count  length\n",
            "0  홍준표        1     50       3\n",
            "1  최재형        1     42       3\n"
          ]
        },
        {
          "output_type": "stream",
          "name": "stderr",
          "text": [
            "/usr/local/lib/python3.7/dist-packages/ipykernel_launcher.py:45: DeprecationWarning: Call to deprecated `__getitem__` (Method will be removed in 4.0.0, use self.wv.__getitem__() instead).\n",
            "/usr/local/lib/python3.7/dist-packages/ipykernel_launcher.py:47: DeprecationWarning: Call to deprecated `__getitem__` (Method will be removed in 4.0.0, use self.wv.__getitem__() instead).\n",
            "/usr/local/lib/python3.7/dist-packages/ipykernel_launcher.py:51: DeprecationWarning: Call to deprecated `__getitem__` (Method will be removed in 4.0.0, use self.wv.__getitem__() instead).\n",
            "/usr/local/lib/python3.7/dist-packages/ipykernel_launcher.py:84: SettingWithCopyWarning: \n",
            "A value is trying to be set on a copy of a slice from a DataFrame.\n",
            "Try using .loc[row_indexer,col_indexer] = value instead\n",
            "\n",
            "See the caveats in the documentation: https://pandas.pydata.org/pandas-docs/stable/user_guide/indexing.html#returning-a-view-versus-a-copy\n",
            "/usr/local/lib/python3.7/dist-packages/ipykernel_launcher.py:84: SettingWithCopyWarning: \n",
            "A value is trying to be set on a copy of a slice from a DataFrame.\n",
            "Try using .loc[row_indexer,col_indexer] = value instead\n",
            "\n",
            "See the caveats in the documentation: https://pandas.pydata.org/pandas-docs/stable/user_guide/indexing.html#returning-a-view-versus-a-copy\n",
            "\r  7%|▋         | 4/60 [00:55<09:44, 10.44s/it]"
          ]
        },
        {
          "output_type": "stream",
          "name": "stdout",
          "text": [
            "Done word2vec Training\n",
            "‘작업복’ 이재명과 ‘나비 넥타이’ 윤석열, 어린 시절 사진 비교 눈길\n",
            "  word  cluster  count  length\n",
            "0  가난이        0    164       3\n",
            "1  이재명        0    134       3\n",
            "‘작업복’ 이재명과 ‘나비 넥타이’ 윤석열, 어린 시절 사진 비교 눈길\n",
            "  word  cluster  count  length\n",
            "0   가난        1    165       2\n",
            "1   수저        1     58       2\n"
          ]
        },
        {
          "output_type": "stream",
          "name": "stderr",
          "text": [
            "/usr/local/lib/python3.7/dist-packages/ipykernel_launcher.py:45: DeprecationWarning: Call to deprecated `__getitem__` (Method will be removed in 4.0.0, use self.wv.__getitem__() instead).\n",
            "/usr/local/lib/python3.7/dist-packages/ipykernel_launcher.py:47: DeprecationWarning: Call to deprecated `__getitem__` (Method will be removed in 4.0.0, use self.wv.__getitem__() instead).\n",
            "/usr/local/lib/python3.7/dist-packages/ipykernel_launcher.py:51: DeprecationWarning: Call to deprecated `__getitem__` (Method will be removed in 4.0.0, use self.wv.__getitem__() instead).\n",
            "/usr/local/lib/python3.7/dist-packages/ipykernel_launcher.py:84: SettingWithCopyWarning: \n",
            "A value is trying to be set on a copy of a slice from a DataFrame.\n",
            "Try using .loc[row_indexer,col_indexer] = value instead\n",
            "\n",
            "See the caveats in the documentation: https://pandas.pydata.org/pandas-docs/stable/user_guide/indexing.html#returning-a-view-versus-a-copy\n",
            "/usr/local/lib/python3.7/dist-packages/ipykernel_launcher.py:84: SettingWithCopyWarning: \n",
            "A value is trying to be set on a copy of a slice from a DataFrame.\n",
            "Try using .loc[row_indexer,col_indexer] = value instead\n",
            "\n",
            "See the caveats in the documentation: https://pandas.pydata.org/pandas-docs/stable/user_guide/indexing.html#returning-a-view-versus-a-copy\n",
            "\r  8%|▊         | 5/60 [00:57<07:05,  7.74s/it]"
          ]
        },
        {
          "output_type": "stream",
          "name": "stdout",
          "text": [
            "Done word2vec Training\n",
            "[제보는Y] \"돈가스 잘랐더니 2㎝ 톱날이\"...식약처 조사 착수\n",
            "  word  cluster  count  length\n",
            "0   톱날        0     34       2\n",
            "[제보는Y] \"돈가스 잘랐더니 2㎝ 톱날이\"...식약처 조사 착수\n",
            "Empty DataFrame\n",
            "Columns: [word, cluster, count, length]\n",
            "Index: []\n"
          ]
        },
        {
          "output_type": "stream",
          "name": "stderr",
          "text": [
            "/usr/local/lib/python3.7/dist-packages/ipykernel_launcher.py:45: DeprecationWarning: Call to deprecated `__getitem__` (Method will be removed in 4.0.0, use self.wv.__getitem__() instead).\n",
            "/usr/local/lib/python3.7/dist-packages/ipykernel_launcher.py:47: DeprecationWarning: Call to deprecated `__getitem__` (Method will be removed in 4.0.0, use self.wv.__getitem__() instead).\n",
            "/usr/local/lib/python3.7/dist-packages/ipykernel_launcher.py:51: DeprecationWarning: Call to deprecated `__getitem__` (Method will be removed in 4.0.0, use self.wv.__getitem__() instead).\n",
            "\r 10%|█         | 6/60 [01:00<05:16,  5.85s/it]"
          ]
        },
        {
          "output_type": "stream",
          "name": "stdout",
          "text": [
            "Done word2vec Training\n"
          ]
        },
        {
          "output_type": "stream",
          "name": "stderr",
          "text": [
            "/usr/local/lib/python3.7/dist-packages/ipykernel_launcher.py:45: DeprecationWarning: Call to deprecated `__getitem__` (Method will be removed in 4.0.0, use self.wv.__getitem__() instead).\n",
            "/usr/local/lib/python3.7/dist-packages/ipykernel_launcher.py:47: DeprecationWarning: Call to deprecated `__getitem__` (Method will be removed in 4.0.0, use self.wv.__getitem__() instead).\n",
            "/usr/local/lib/python3.7/dist-packages/ipykernel_launcher.py:51: DeprecationWarning: Call to deprecated `__getitem__` (Method will be removed in 4.0.0, use self.wv.__getitem__() instead).\n",
            "\r 12%|█▏        | 7/60 [01:01<03:49,  4.33s/it]"
          ]
        },
        {
          "output_type": "stream",
          "name": "stdout",
          "text": [
            "Done word2vec Training\n",
            "Done word2vec Training\n"
          ]
        },
        {
          "output_type": "stream",
          "name": "stderr",
          "text": [
            "/usr/local/lib/python3.7/dist-packages/ipykernel_launcher.py:45: DeprecationWarning: Call to deprecated `__getitem__` (Method will be removed in 4.0.0, use self.wv.__getitem__() instead).\n",
            "/usr/local/lib/python3.7/dist-packages/ipykernel_launcher.py:47: DeprecationWarning: Call to deprecated `__getitem__` (Method will be removed in 4.0.0, use self.wv.__getitem__() instead).\n",
            "/usr/local/lib/python3.7/dist-packages/ipykernel_launcher.py:51: DeprecationWarning: Call to deprecated `__getitem__` (Method will be removed in 4.0.0, use self.wv.__getitem__() instead).\n",
            "/usr/local/lib/python3.7/dist-packages/ipykernel_launcher.py:84: SettingWithCopyWarning: \n",
            "A value is trying to be set on a copy of a slice from a DataFrame.\n",
            "Try using .loc[row_indexer,col_indexer] = value instead\n",
            "\n",
            "See the caveats in the documentation: https://pandas.pydata.org/pandas-docs/stable/user_guide/indexing.html#returning-a-view-versus-a-copy\n"
          ]
        },
        {
          "output_type": "stream",
          "name": "stdout",
          "text": [
            "‘윤석열 멘토 논란’ 천공스승 “검찰총장 사퇴 조언… ‘왕’자는 나 아냐”\n",
            "  word  cluster  count  length\n",
            "0  유승민        0    375       3\n",
            "1  윤석열        0    334       3\n"
          ]
        },
        {
          "output_type": "stream",
          "name": "stderr",
          "text": [
            "/usr/local/lib/python3.7/dist-packages/ipykernel_launcher.py:84: SettingWithCopyWarning: \n",
            "A value is trying to be set on a copy of a slice from a DataFrame.\n",
            "Try using .loc[row_indexer,col_indexer] = value instead\n",
            "\n",
            "See the caveats in the documentation: https://pandas.pydata.org/pandas-docs/stable/user_guide/indexing.html#returning-a-view-versus-a-copy\n",
            "\r 13%|█▎        | 8/60 [01:18<07:19,  8.44s/it]"
          ]
        },
        {
          "output_type": "stream",
          "name": "stdout",
          "text": [
            "‘윤석열 멘토 논란’ 천공스승 “검찰총장 사퇴 조언… ‘왕’자는 나 아냐”\n",
            "   word  cluster  count  length\n",
            "0  윤석열이        1    330       4\n",
            "1    도사        1    271       2\n",
            "Done word2vec Training\n"
          ]
        },
        {
          "output_type": "stream",
          "name": "stderr",
          "text": [
            "/usr/local/lib/python3.7/dist-packages/ipykernel_launcher.py:45: DeprecationWarning: Call to deprecated `__getitem__` (Method will be removed in 4.0.0, use self.wv.__getitem__() instead).\n",
            "/usr/local/lib/python3.7/dist-packages/ipykernel_launcher.py:47: DeprecationWarning: Call to deprecated `__getitem__` (Method will be removed in 4.0.0, use self.wv.__getitem__() instead).\n",
            "/usr/local/lib/python3.7/dist-packages/ipykernel_launcher.py:51: DeprecationWarning: Call to deprecated `__getitem__` (Method will be removed in 4.0.0, use self.wv.__getitem__() instead).\n",
            "/usr/local/lib/python3.7/dist-packages/ipykernel_launcher.py:84: SettingWithCopyWarning: \n",
            "A value is trying to be set on a copy of a slice from a DataFrame.\n",
            "Try using .loc[row_indexer,col_indexer] = value instead\n",
            "\n",
            "See the caveats in the documentation: https://pandas.pydata.org/pandas-docs/stable/user_guide/indexing.html#returning-a-view-versus-a-copy\n",
            "/usr/local/lib/python3.7/dist-packages/ipykernel_launcher.py:84: SettingWithCopyWarning: \n",
            "A value is trying to be set on a copy of a slice from a DataFrame.\n",
            "Try using .loc[row_indexer,col_indexer] = value instead\n",
            "\n",
            "See the caveats in the documentation: https://pandas.pydata.org/pandas-docs/stable/user_guide/indexing.html#returning-a-view-versus-a-copy\n",
            " 15%|█▌        | 9/60 [01:29<07:43,  9.09s/it]"
          ]
        },
        {
          "output_type": "stream",
          "name": "stdout",
          "text": [
            "[단독] ‘화천대유 근무’ 전 성남시의장, 11년 전 금품로비 받았다\n",
            "  word  cluster  count  length\n",
            "0   국민        0    219       2\n",
            "1   국힘        0    183       2\n",
            "[단독] ‘화천대유 근무’ 전 성남시의장, 11년 전 금품로비 받았다\n",
            "   word  cluster  count  length\n",
            "0  국민의힘        1    244       4\n",
            "1   이재명        1    240       3\n"
          ]
        },
        {
          "output_type": "stream",
          "name": "stderr",
          "text": [
            "/usr/local/lib/python3.7/dist-packages/ipykernel_launcher.py:45: DeprecationWarning: Call to deprecated `__getitem__` (Method will be removed in 4.0.0, use self.wv.__getitem__() instead).\n",
            "/usr/local/lib/python3.7/dist-packages/ipykernel_launcher.py:47: DeprecationWarning: Call to deprecated `__getitem__` (Method will be removed in 4.0.0, use self.wv.__getitem__() instead).\n",
            "/usr/local/lib/python3.7/dist-packages/ipykernel_launcher.py:51: DeprecationWarning: Call to deprecated `__getitem__` (Method will be removed in 4.0.0, use self.wv.__getitem__() instead).\n",
            "/usr/local/lib/python3.7/dist-packages/ipykernel_launcher.py:84: SettingWithCopyWarning: \n",
            "A value is trying to be set on a copy of a slice from a DataFrame.\n",
            "Try using .loc[row_indexer,col_indexer] = value instead\n",
            "\n",
            "See the caveats in the documentation: https://pandas.pydata.org/pandas-docs/stable/user_guide/indexing.html#returning-a-view-versus-a-copy\n",
            "/usr/local/lib/python3.7/dist-packages/ipykernel_launcher.py:84: SettingWithCopyWarning: \n",
            "A value is trying to be set on a copy of a slice from a DataFrame.\n",
            "Try using .loc[row_indexer,col_indexer] = value instead\n",
            "\n",
            "See the caveats in the documentation: https://pandas.pydata.org/pandas-docs/stable/user_guide/indexing.html#returning-a-view-versus-a-copy\n",
            "\r 17%|█▋        | 10/60 [01:35<06:54,  8.30s/it]"
          ]
        },
        {
          "output_type": "stream",
          "name": "stdout",
          "text": [
            "Done word2vec Training\n",
            "왕릉 아파트 논란 눈덩이…최악의 경우 건설사들 '줄도산'\n",
            "   word  cluster  count  length\n",
            "0  건설사들        0    167       4\n",
            "1    건설        0    138       2\n",
            "왕릉 아파트 논란 눈덩이…최악의 경우 건설사들 '줄도산'\n",
            "  word  cluster  count  length\n",
            "0   철거        1    152       2\n",
            "1  아파트        1     65       3\n"
          ]
        },
        {
          "output_type": "stream",
          "name": "stderr",
          "text": [
            "/usr/local/lib/python3.7/dist-packages/ipykernel_launcher.py:45: DeprecationWarning: Call to deprecated `__getitem__` (Method will be removed in 4.0.0, use self.wv.__getitem__() instead).\n",
            "/usr/local/lib/python3.7/dist-packages/ipykernel_launcher.py:47: DeprecationWarning: Call to deprecated `__getitem__` (Method will be removed in 4.0.0, use self.wv.__getitem__() instead).\n",
            "/usr/local/lib/python3.7/dist-packages/ipykernel_launcher.py:51: DeprecationWarning: Call to deprecated `__getitem__` (Method will be removed in 4.0.0, use self.wv.__getitem__() instead).\n",
            "/usr/local/lib/python3.7/dist-packages/ipykernel_launcher.py:84: SettingWithCopyWarning: \n",
            "A value is trying to be set on a copy of a slice from a DataFrame.\n",
            "Try using .loc[row_indexer,col_indexer] = value instead\n",
            "\n",
            "See the caveats in the documentation: https://pandas.pydata.org/pandas-docs/stable/user_guide/indexing.html#returning-a-view-versus-a-copy\n",
            "/usr/local/lib/python3.7/dist-packages/ipykernel_launcher.py:84: SettingWithCopyWarning: \n",
            "A value is trying to be set on a copy of a slice from a DataFrame.\n",
            "Try using .loc[row_indexer,col_indexer] = value instead\n",
            "\n",
            "See the caveats in the documentation: https://pandas.pydata.org/pandas-docs/stable/user_guide/indexing.html#returning-a-view-versus-a-copy\n",
            "/usr/local/lib/python3.7/dist-packages/ipykernel_launcher.py:84: SettingWithCopyWarning: \n",
            "A value is trying to be set on a copy of a slice from a DataFrame.\n",
            "Try using .loc[row_indexer,col_indexer] = value instead\n",
            "\n",
            "See the caveats in the documentation: https://pandas.pydata.org/pandas-docs/stable/user_guide/indexing.html#returning-a-view-versus-a-copy\n",
            "/usr/local/lib/python3.7/dist-packages/ipykernel_launcher.py:84: SettingWithCopyWarning: \n",
            "A value is trying to be set on a copy of a slice from a DataFrame.\n",
            "Try using .loc[row_indexer,col_indexer] = value instead\n",
            "\n",
            "See the caveats in the documentation: https://pandas.pydata.org/pandas-docs/stable/user_guide/indexing.html#returning-a-view-versus-a-copy\n",
            "/usr/local/lib/python3.7/dist-packages/ipykernel_launcher.py:84: SettingWithCopyWarning: \n",
            "A value is trying to be set on a copy of a slice from a DataFrame.\n",
            "Try using .loc[row_indexer,col_indexer] = value instead\n",
            "\n",
            "See the caveats in the documentation: https://pandas.pydata.org/pandas-docs/stable/user_guide/indexing.html#returning-a-view-versus-a-copy\n",
            "\r 18%|█▊        | 11/60 [01:40<05:48,  7.12s/it]"
          ]
        },
        {
          "output_type": "stream",
          "name": "stdout",
          "text": [
            "Done word2vec Training\n",
            "국민의힘 최종 경선 원희룡·유승민·윤석열·홍준표 진출\n",
            "  word  cluster  count  length\n",
            "0  원희룡        0     44       3\n",
            "1  하태경        0     33       3\n",
            "국민의힘 최종 경선 원희룡·유승민·윤석열·홍준표 진출\n",
            "  word  cluster  count  length\n",
            "0   국민        1     41       2\n",
            "1   사람        1     31       2\n",
            "국민의힘 최종 경선 원희룡·유승민·윤석열·홍준표 진출\n",
            "  word  cluster  count  length\n",
            "0  유승민        2     81       3\n",
            "1  윤석열        2     52       3\n",
            "국민의힘 최종 경선 원희룡·유승민·윤석열·홍준표 진출\n",
            "  word  cluster  count  length\n",
            "0  최재형        3     64       3\n",
            "1  홍준표        3     54       3\n",
            "국민의힘 최종 경선 원희룡·유승민·윤석열·홍준표 진출\n",
            "   word  cluster  count  length\n",
            "0  부정선거        4     45       4\n"
          ]
        },
        {
          "output_type": "stream",
          "name": "stderr",
          "text": [
            "/usr/local/lib/python3.7/dist-packages/ipykernel_launcher.py:45: DeprecationWarning: Call to deprecated `__getitem__` (Method will be removed in 4.0.0, use self.wv.__getitem__() instead).\n",
            "/usr/local/lib/python3.7/dist-packages/ipykernel_launcher.py:47: DeprecationWarning: Call to deprecated `__getitem__` (Method will be removed in 4.0.0, use self.wv.__getitem__() instead).\n",
            "/usr/local/lib/python3.7/dist-packages/ipykernel_launcher.py:51: DeprecationWarning: Call to deprecated `__getitem__` (Method will be removed in 4.0.0, use self.wv.__getitem__() instead).\n",
            "/usr/local/lib/python3.7/dist-packages/ipykernel_launcher.py:84: SettingWithCopyWarning: \n",
            "A value is trying to be set on a copy of a slice from a DataFrame.\n",
            "Try using .loc[row_indexer,col_indexer] = value instead\n",
            "\n",
            "See the caveats in the documentation: https://pandas.pydata.org/pandas-docs/stable/user_guide/indexing.html#returning-a-view-versus-a-copy\n",
            "/usr/local/lib/python3.7/dist-packages/ipykernel_launcher.py:84: SettingWithCopyWarning: \n",
            "A value is trying to be set on a copy of a slice from a DataFrame.\n",
            "Try using .loc[row_indexer,col_indexer] = value instead\n",
            "\n",
            "See the caveats in the documentation: https://pandas.pydata.org/pandas-docs/stable/user_guide/indexing.html#returning-a-view-versus-a-copy\n",
            "\r 20%|██        | 12/60 [01:42<04:32,  5.68s/it]"
          ]
        },
        {
          "output_type": "stream",
          "name": "stdout",
          "text": [
            "Done word2vec Training\n",
            "국민의힘 '4강' 본경선 대진 확정…원희룡·유승민·윤석열·홍준표(종합)\n",
            "Empty DataFrame\n",
            "Columns: [word, cluster, count, length]\n",
            "Index: []\n",
            "국민의힘 '4강' 본경선 대진 확정…원희룡·유승민·윤석열·홍준표(종합)\n",
            "  word  cluster  count  length\n",
            "0  유승민        1     45       3\n",
            "Done word2vec Training\n"
          ]
        },
        {
          "output_type": "stream",
          "name": "stderr",
          "text": [
            "/usr/local/lib/python3.7/dist-packages/ipykernel_launcher.py:45: DeprecationWarning: Call to deprecated `__getitem__` (Method will be removed in 4.0.0, use self.wv.__getitem__() instead).\n",
            "/usr/local/lib/python3.7/dist-packages/ipykernel_launcher.py:47: DeprecationWarning: Call to deprecated `__getitem__` (Method will be removed in 4.0.0, use self.wv.__getitem__() instead).\n",
            "/usr/local/lib/python3.7/dist-packages/ipykernel_launcher.py:51: DeprecationWarning: Call to deprecated `__getitem__` (Method will be removed in 4.0.0, use self.wv.__getitem__() instead).\n",
            "/usr/local/lib/python3.7/dist-packages/ipykernel_launcher.py:84: SettingWithCopyWarning: \n",
            "A value is trying to be set on a copy of a slice from a DataFrame.\n",
            "Try using .loc[row_indexer,col_indexer] = value instead\n",
            "\n",
            "See the caveats in the documentation: https://pandas.pydata.org/pandas-docs/stable/user_guide/indexing.html#returning-a-view-versus-a-copy\n"
          ]
        },
        {
          "output_type": "stream",
          "name": "stdout",
          "text": [
            "[단독] 정영학-김만배 녹취록 확인 “성남시의장 30억·의원 20억·실탄은 350억”\n",
            "   word  cluster  count  length\n",
            "0   이재명        0    555       3\n",
            "1  국민의힘        0    469       4\n"
          ]
        },
        {
          "output_type": "stream",
          "name": "stderr",
          "text": [
            "/usr/local/lib/python3.7/dist-packages/ipykernel_launcher.py:84: SettingWithCopyWarning: \n",
            "A value is trying to be set on a copy of a slice from a DataFrame.\n",
            "Try using .loc[row_indexer,col_indexer] = value instead\n",
            "\n",
            "See the caveats in the documentation: https://pandas.pydata.org/pandas-docs/stable/user_guide/indexing.html#returning-a-view-versus-a-copy\n",
            "\r 22%|██▏       | 13/60 [02:01<07:36,  9.72s/it]"
          ]
        },
        {
          "output_type": "stream",
          "name": "stdout",
          "text": [
            "[단독] 정영학-김만배 녹취록 확인 “성남시의장 30억·의원 20억·실탄은 350억”\n",
            "    word  cluster  count  length\n",
            "0  성남시의장        1    435       5\n",
            "1   한나라당        1    415       4\n",
            "Done word2vec Training\n"
          ]
        },
        {
          "output_type": "stream",
          "name": "stderr",
          "text": [
            "/usr/local/lib/python3.7/dist-packages/ipykernel_launcher.py:45: DeprecationWarning: Call to deprecated `__getitem__` (Method will be removed in 4.0.0, use self.wv.__getitem__() instead).\n",
            "/usr/local/lib/python3.7/dist-packages/ipykernel_launcher.py:47: DeprecationWarning: Call to deprecated `__getitem__` (Method will be removed in 4.0.0, use self.wv.__getitem__() instead).\n",
            "/usr/local/lib/python3.7/dist-packages/ipykernel_launcher.py:51: DeprecationWarning: Call to deprecated `__getitem__` (Method will be removed in 4.0.0, use self.wv.__getitem__() instead).\n",
            "/usr/local/lib/python3.7/dist-packages/ipykernel_launcher.py:84: SettingWithCopyWarning: \n",
            "A value is trying to be set on a copy of a slice from a DataFrame.\n",
            "Try using .loc[row_indexer,col_indexer] = value instead\n",
            "\n",
            "See the caveats in the documentation: https://pandas.pydata.org/pandas-docs/stable/user_guide/indexing.html#returning-a-view-versus-a-copy\n",
            "/usr/local/lib/python3.7/dist-packages/ipykernel_launcher.py:84: SettingWithCopyWarning: \n",
            "A value is trying to be set on a copy of a slice from a DataFrame.\n",
            "Try using .loc[row_indexer,col_indexer] = value instead\n",
            "\n",
            "See the caveats in the documentation: https://pandas.pydata.org/pandas-docs/stable/user_guide/indexing.html#returning-a-view-versus-a-copy\n",
            " 23%|██▎       | 14/60 [02:20<09:31, 12.42s/it]"
          ]
        },
        {
          "output_type": "stream",
          "name": "stdout",
          "text": [
            "천공스승 “윤석열, 김건희 통해 알게 된 사이…멘토는 아냐”\n",
            "  word  cluster  count  length\n",
            "0   도사        0    340       2\n",
            "1  거짓말        0    253       3\n",
            "천공스승 “윤석열, 김건희 통해 알게 된 사이…멘토는 아냐”\n",
            "   word  cluster  count  length\n",
            "0   윤석열        1    407       3\n",
            "1  윤석열이        1    402       4\n"
          ]
        },
        {
          "output_type": "stream",
          "name": "stderr",
          "text": [
            "/usr/local/lib/python3.7/dist-packages/ipykernel_launcher.py:45: DeprecationWarning: Call to deprecated `__getitem__` (Method will be removed in 4.0.0, use self.wv.__getitem__() instead).\n",
            "/usr/local/lib/python3.7/dist-packages/ipykernel_launcher.py:47: DeprecationWarning: Call to deprecated `__getitem__` (Method will be removed in 4.0.0, use self.wv.__getitem__() instead).\n",
            "/usr/local/lib/python3.7/dist-packages/ipykernel_launcher.py:51: DeprecationWarning: Call to deprecated `__getitem__` (Method will be removed in 4.0.0, use self.wv.__getitem__() instead).\n",
            "/usr/local/lib/python3.7/dist-packages/ipykernel_launcher.py:84: SettingWithCopyWarning: \n",
            "A value is trying to be set on a copy of a slice from a DataFrame.\n",
            "Try using .loc[row_indexer,col_indexer] = value instead\n",
            "\n",
            "See the caveats in the documentation: https://pandas.pydata.org/pandas-docs/stable/user_guide/indexing.html#returning-a-view-versus-a-copy\n",
            "/usr/local/lib/python3.7/dist-packages/ipykernel_launcher.py:84: SettingWithCopyWarning: \n",
            "A value is trying to be set on a copy of a slice from a DataFrame.\n",
            "Try using .loc[row_indexer,col_indexer] = value instead\n",
            "\n",
            "See the caveats in the documentation: https://pandas.pydata.org/pandas-docs/stable/user_guide/indexing.html#returning-a-view-versus-a-copy\n",
            "\r 25%|██▌       | 15/60 [02:26<07:58, 10.64s/it]"
          ]
        },
        {
          "output_type": "stream",
          "name": "stdout",
          "text": [
            "Done word2vec Training\n",
            "\"이러다 평생 집 못산다\"…20대마저 주식·코인 자금까지 빼서 추격 매수\n",
            "  word  cluster  count  length\n",
            "0   집값        0    177       2\n",
            "1  20대        0     91       3\n",
            "\"이러다 평생 집 못산다\"…20대마저 주식·코인 자금까지 빼서 추격 매수\n",
            "  word  cluster  count  length\n",
            "0   나라        1     97       2\n",
            "1  부동산        1     83       3\n"
          ]
        },
        {
          "output_type": "stream",
          "name": "stderr",
          "text": [
            " 28%|██▊       | 17/60 [02:29<04:09,  5.81s/it]"
          ]
        },
        {
          "output_type": "stream",
          "name": "stdout",
          "text": [
            "Done word2vec Training\n",
            "조성은 \"'윤석열이 시켜서' 문장 있는지 한꺼번에 공개할 생각\"\n",
            "  word  cluster  count  length\n",
            "0   김웅        0     41       2\n",
            "1   인간        0     35       2\n",
            "조성은 \"'윤석열이 시켜서' 문장 있는지 한꺼번에 공개할 생각\"\n",
            "  word  cluster  count  length\n",
            "0  조성은        1     90       3\n",
            "1   여자        1     53       2\n",
            "조성은 \"'윤석열이 시켜서' 문장 있는지 한꺼번에 공개할 생각\"\n",
            "   word  cluster  count  length\n",
            "0  윤석열이        2    128       4\n",
            "1   박지원        2     72       3\n"
          ]
        },
        {
          "output_type": "stream",
          "name": "stderr",
          "text": [
            "/usr/local/lib/python3.7/dist-packages/ipykernel_launcher.py:45: DeprecationWarning: Call to deprecated `__getitem__` (Method will be removed in 4.0.0, use self.wv.__getitem__() instead).\n",
            "/usr/local/lib/python3.7/dist-packages/ipykernel_launcher.py:47: DeprecationWarning: Call to deprecated `__getitem__` (Method will be removed in 4.0.0, use self.wv.__getitem__() instead).\n",
            "/usr/local/lib/python3.7/dist-packages/ipykernel_launcher.py:51: DeprecationWarning: Call to deprecated `__getitem__` (Method will be removed in 4.0.0, use self.wv.__getitem__() instead).\n",
            "/usr/local/lib/python3.7/dist-packages/ipykernel_launcher.py:84: SettingWithCopyWarning: \n",
            "A value is trying to be set on a copy of a slice from a DataFrame.\n",
            "Try using .loc[row_indexer,col_indexer] = value instead\n",
            "\n",
            "See the caveats in the documentation: https://pandas.pydata.org/pandas-docs/stable/user_guide/indexing.html#returning-a-view-versus-a-copy\n",
            "/usr/local/lib/python3.7/dist-packages/ipykernel_launcher.py:84: SettingWithCopyWarning: \n",
            "A value is trying to be set on a copy of a slice from a DataFrame.\n",
            "Try using .loc[row_indexer,col_indexer] = value instead\n",
            "\n",
            "See the caveats in the documentation: https://pandas.pydata.org/pandas-docs/stable/user_guide/indexing.html#returning-a-view-versus-a-copy\n",
            "/usr/local/lib/python3.7/dist-packages/ipykernel_launcher.py:84: SettingWithCopyWarning: \n",
            "A value is trying to be set on a copy of a slice from a DataFrame.\n",
            "Try using .loc[row_indexer,col_indexer] = value instead\n",
            "\n",
            "See the caveats in the documentation: https://pandas.pydata.org/pandas-docs/stable/user_guide/indexing.html#returning-a-view-versus-a-copy\n",
            "/usr/local/lib/python3.7/dist-packages/ipykernel_launcher.py:84: SettingWithCopyWarning: \n",
            "A value is trying to be set on a copy of a slice from a DataFrame.\n",
            "Try using .loc[row_indexer,col_indexer] = value instead\n",
            "\n",
            "See the caveats in the documentation: https://pandas.pydata.org/pandas-docs/stable/user_guide/indexing.html#returning-a-view-versus-a-copy\n",
            "/usr/local/lib/python3.7/dist-packages/ipykernel_launcher.py:84: SettingWithCopyWarning: \n",
            "A value is trying to be set on a copy of a slice from a DataFrame.\n",
            "Try using .loc[row_indexer,col_indexer] = value instead\n",
            "\n",
            "See the caveats in the documentation: https://pandas.pydata.org/pandas-docs/stable/user_guide/indexing.html#returning-a-view-versus-a-copy\n",
            " 30%|███       | 18/60 [02:36<04:17,  6.14s/it]"
          ]
        },
        {
          "output_type": "stream",
          "name": "stdout",
          "text": [
            "조성은 \"'윤석열이 시켜서' 문장 있는지 한꺼번에 공개할 생각\"\n",
            "  word  cluster  count  length\n",
            "0  윤석열        3    128       3\n",
            "1   정치        3     60       2\n",
            "조성은 \"'윤석열이 시켜서' 문장 있는지 한꺼번에 공개할 생각\"\n",
            "  word  cluster  count  length\n",
            "0   국민        4     48       2\n",
            "1   사람        4     42       2\n",
            "Done word2vec Training\n",
            "“이재명, 변호사비로 한명에 23억” 친문단체 주장 녹취록엔...\n",
            "  word  cluster  count  length\n",
            "0  이재명        0    299       3\n",
            "1   후보        0    100       2\n"
          ]
        },
        {
          "output_type": "stream",
          "name": "stderr",
          "text": [
            "/usr/local/lib/python3.7/dist-packages/ipykernel_launcher.py:45: DeprecationWarning: Call to deprecated `__getitem__` (Method will be removed in 4.0.0, use self.wv.__getitem__() instead).\n",
            "/usr/local/lib/python3.7/dist-packages/ipykernel_launcher.py:47: DeprecationWarning: Call to deprecated `__getitem__` (Method will be removed in 4.0.0, use self.wv.__getitem__() instead).\n",
            "/usr/local/lib/python3.7/dist-packages/ipykernel_launcher.py:51: DeprecationWarning: Call to deprecated `__getitem__` (Method will be removed in 4.0.0, use self.wv.__getitem__() instead).\n",
            "/usr/local/lib/python3.7/dist-packages/ipykernel_launcher.py:84: SettingWithCopyWarning: \n",
            "A value is trying to be set on a copy of a slice from a DataFrame.\n",
            "Try using .loc[row_indexer,col_indexer] = value instead\n",
            "\n",
            "See the caveats in the documentation: https://pandas.pydata.org/pandas-docs/stable/user_guide/indexing.html#returning-a-view-versus-a-copy\n",
            "/usr/local/lib/python3.7/dist-packages/ipykernel_launcher.py:84: SettingWithCopyWarning: \n",
            "A value is trying to be set on a copy of a slice from a DataFrame.\n",
            "Try using .loc[row_indexer,col_indexer] = value instead\n",
            "\n",
            "See the caveats in the documentation: https://pandas.pydata.org/pandas-docs/stable/user_guide/indexing.html#returning-a-view-versus-a-copy\n",
            " 32%|███▏      | 19/60 [02:46<05:03,  7.39s/it]"
          ]
        },
        {
          "output_type": "stream",
          "name": "stdout",
          "text": [
            "“이재명, 변호사비로 한명에 23억” 친문단체 주장 녹취록엔...\n",
            "  word  cluster  count  length\n",
            "0   나라        1    150       2\n",
            "1  이죄명        1    113       3\n"
          ]
        },
        {
          "output_type": "stream",
          "name": "stderr",
          "text": [
            "/usr/local/lib/python3.7/dist-packages/ipykernel_launcher.py:45: DeprecationWarning: Call to deprecated `__getitem__` (Method will be removed in 4.0.0, use self.wv.__getitem__() instead).\n",
            "/usr/local/lib/python3.7/dist-packages/ipykernel_launcher.py:47: DeprecationWarning: Call to deprecated `__getitem__` (Method will be removed in 4.0.0, use self.wv.__getitem__() instead).\n",
            "/usr/local/lib/python3.7/dist-packages/ipykernel_launcher.py:51: DeprecationWarning: Call to deprecated `__getitem__` (Method will be removed in 4.0.0, use self.wv.__getitem__() instead).\n",
            "/usr/local/lib/python3.7/dist-packages/ipykernel_launcher.py:84: SettingWithCopyWarning: \n",
            "A value is trying to be set on a copy of a slice from a DataFrame.\n",
            "Try using .loc[row_indexer,col_indexer] = value instead\n",
            "\n",
            "See the caveats in the documentation: https://pandas.pydata.org/pandas-docs/stable/user_guide/indexing.html#returning-a-view-versus-a-copy\n",
            "/usr/local/lib/python3.7/dist-packages/ipykernel_launcher.py:84: SettingWithCopyWarning: \n",
            "A value is trying to be set on a copy of a slice from a DataFrame.\n",
            "Try using .loc[row_indexer,col_indexer] = value instead\n",
            "\n",
            "See the caveats in the documentation: https://pandas.pydata.org/pandas-docs/stable/user_guide/indexing.html#returning-a-view-versus-a-copy\n",
            "\r 33%|███▎      | 20/60 [02:50<04:11,  6.30s/it]"
          ]
        },
        {
          "output_type": "stream",
          "name": "stdout",
          "text": [
            "Done word2vec Training\n",
            "국민의힘 대선 본경선에 원희룡·유승민·윤석열·홍준표 진출\n",
            "  word  cluster  count  length\n",
            "0  최재형        0     45       3\n",
            "1  황교안        0     42       3\n",
            "국민의힘 대선 본경선에 원희룡·유승민·윤석열·홍준표 진출\n",
            "  word  cluster  count  length\n",
            "0  하태경        1     32       3\n",
            "1   국민        1     28       2\n"
          ]
        },
        {
          "output_type": "stream",
          "name": "stderr",
          "text": [
            "/usr/local/lib/python3.7/dist-packages/ipykernel_launcher.py:45: DeprecationWarning: Call to deprecated `__getitem__` (Method will be removed in 4.0.0, use self.wv.__getitem__() instead).\n",
            "/usr/local/lib/python3.7/dist-packages/ipykernel_launcher.py:47: DeprecationWarning: Call to deprecated `__getitem__` (Method will be removed in 4.0.0, use self.wv.__getitem__() instead).\n",
            "/usr/local/lib/python3.7/dist-packages/ipykernel_launcher.py:51: DeprecationWarning: Call to deprecated `__getitem__` (Method will be removed in 4.0.0, use self.wv.__getitem__() instead).\n",
            "/usr/local/lib/python3.7/dist-packages/ipykernel_launcher.py:84: SettingWithCopyWarning: \n",
            "A value is trying to be set on a copy of a slice from a DataFrame.\n",
            "Try using .loc[row_indexer,col_indexer] = value instead\n",
            "\n",
            "See the caveats in the documentation: https://pandas.pydata.org/pandas-docs/stable/user_guide/indexing.html#returning-a-view-versus-a-copy\n",
            "/usr/local/lib/python3.7/dist-packages/ipykernel_launcher.py:84: SettingWithCopyWarning: \n",
            "A value is trying to be set on a copy of a slice from a DataFrame.\n",
            "Try using .loc[row_indexer,col_indexer] = value instead\n",
            "\n",
            "See the caveats in the documentation: https://pandas.pydata.org/pandas-docs/stable/user_guide/indexing.html#returning-a-view-versus-a-copy\n",
            "\r 35%|███▌      | 21/60 [02:55<03:57,  6.09s/it]"
          ]
        },
        {
          "output_type": "stream",
          "name": "stdout",
          "text": [
            "Done word2vec Training\n",
            "짬뽕 시켰더니 홍합 껍데기에 하얀 기생충?…알고보니‘ 석회관 갯지렁이’\n",
            "  word  cluster  count  length\n",
            "0   홍합        0    145       2\n",
            "1   인체        0     55       2\n",
            "짬뽕 시켰더니 홍합 껍데기에 하얀 기생충?…알고보니‘ 석회관 갯지렁이’\n",
            "  word  cluster  count  length\n",
            "0   짬뽕        1    120       2\n",
            "1  지렁이        1     60       3\n"
          ]
        },
        {
          "output_type": "stream",
          "name": "stderr",
          "text": [
            "/usr/local/lib/python3.7/dist-packages/ipykernel_launcher.py:45: DeprecationWarning: Call to deprecated `__getitem__` (Method will be removed in 4.0.0, use self.wv.__getitem__() instead).\n",
            "/usr/local/lib/python3.7/dist-packages/ipykernel_launcher.py:47: DeprecationWarning: Call to deprecated `__getitem__` (Method will be removed in 4.0.0, use self.wv.__getitem__() instead).\n",
            "/usr/local/lib/python3.7/dist-packages/ipykernel_launcher.py:51: DeprecationWarning: Call to deprecated `__getitem__` (Method will be removed in 4.0.0, use self.wv.__getitem__() instead).\n",
            "\r 37%|███▋      | 22/60 [02:57<02:57,  4.67s/it]"
          ]
        },
        {
          "output_type": "stream",
          "name": "stdout",
          "text": [
            "Done word2vec Training\n"
          ]
        },
        {
          "output_type": "stream",
          "name": "stderr",
          "text": [
            " 38%|███▊      | 23/60 [02:58<02:12,  3.58s/it]/usr/local/lib/python3.7/dist-packages/ipykernel_launcher.py:45: DeprecationWarning: Call to deprecated `__getitem__` (Method will be removed in 4.0.0, use self.wv.__getitem__() instead).\n",
            "/usr/local/lib/python3.7/dist-packages/ipykernel_launcher.py:47: DeprecationWarning: Call to deprecated `__getitem__` (Method will be removed in 4.0.0, use self.wv.__getitem__() instead).\n",
            "/usr/local/lib/python3.7/dist-packages/ipykernel_launcher.py:51: DeprecationWarning: Call to deprecated `__getitem__` (Method will be removed in 4.0.0, use self.wv.__getitem__() instead).\n",
            "/usr/local/lib/python3.7/dist-packages/ipykernel_launcher.py:84: SettingWithCopyWarning: \n",
            "A value is trying to be set on a copy of a slice from a DataFrame.\n",
            "Try using .loc[row_indexer,col_indexer] = value instead\n",
            "\n",
            "See the caveats in the documentation: https://pandas.pydata.org/pandas-docs/stable/user_guide/indexing.html#returning-a-view-versus-a-copy\n",
            "/usr/local/lib/python3.7/dist-packages/ipykernel_launcher.py:84: SettingWithCopyWarning: \n",
            "A value is trying to be set on a copy of a slice from a DataFrame.\n",
            "Try using .loc[row_indexer,col_indexer] = value instead\n",
            "\n",
            "See the caveats in the documentation: https://pandas.pydata.org/pandas-docs/stable/user_guide/indexing.html#returning-a-view-versus-a-copy\n",
            "/usr/local/lib/python3.7/dist-packages/ipykernel_launcher.py:84: SettingWithCopyWarning: \n",
            "A value is trying to be set on a copy of a slice from a DataFrame.\n",
            "Try using .loc[row_indexer,col_indexer] = value instead\n",
            "\n",
            "See the caveats in the documentation: https://pandas.pydata.org/pandas-docs/stable/user_guide/indexing.html#returning-a-view-versus-a-copy\n",
            " 40%|████      | 24/60 [03:00<01:58,  3.29s/it]"
          ]
        },
        {
          "output_type": "stream",
          "name": "stdout",
          "text": [
            "Done word2vec Training\n",
            "국민의힘 뒤덮은 무속 논란…‘최순실 트라우마’ 재현\n",
            "Empty DataFrame\n",
            "Columns: [word, cluster, count, length]\n",
            "Index: []\n",
            "국민의힘 뒤덮은 무속 논란…‘최순실 트라우마’ 재현\n",
            "  word  cluster  count  length\n",
            "0  대통령        1     29       3\n",
            "1   국민        1     29       2\n",
            "국민의힘 뒤덮은 무속 논란…‘최순실 트라우마’ 재현\n",
            "  word  cluster  count  length\n",
            "0  유승민        2     36       3\n",
            "1   후보        2     33       2\n"
          ]
        },
        {
          "output_type": "stream",
          "name": "stderr",
          "text": [
            "/usr/local/lib/python3.7/dist-packages/ipykernel_launcher.py:45: DeprecationWarning: Call to deprecated `__getitem__` (Method will be removed in 4.0.0, use self.wv.__getitem__() instead).\n",
            "/usr/local/lib/python3.7/dist-packages/ipykernel_launcher.py:47: DeprecationWarning: Call to deprecated `__getitem__` (Method will be removed in 4.0.0, use self.wv.__getitem__() instead).\n",
            "/usr/local/lib/python3.7/dist-packages/ipykernel_launcher.py:51: DeprecationWarning: Call to deprecated `__getitem__` (Method will be removed in 4.0.0, use self.wv.__getitem__() instead).\n",
            "/usr/local/lib/python3.7/dist-packages/ipykernel_launcher.py:84: SettingWithCopyWarning: \n",
            "A value is trying to be set on a copy of a slice from a DataFrame.\n",
            "Try using .loc[row_indexer,col_indexer] = value instead\n",
            "\n",
            "See the caveats in the documentation: https://pandas.pydata.org/pandas-docs/stable/user_guide/indexing.html#returning-a-view-versus-a-copy\n",
            "/usr/local/lib/python3.7/dist-packages/ipykernel_launcher.py:84: SettingWithCopyWarning: \n",
            "A value is trying to be set on a copy of a slice from a DataFrame.\n",
            "Try using .loc[row_indexer,col_indexer] = value instead\n",
            "\n",
            "See the caveats in the documentation: https://pandas.pydata.org/pandas-docs/stable/user_guide/indexing.html#returning-a-view-versus-a-copy\n",
            "/usr/local/lib/python3.7/dist-packages/ipykernel_launcher.py:84: SettingWithCopyWarning: \n",
            "A value is trying to be set on a copy of a slice from a DataFrame.\n",
            "Try using .loc[row_indexer,col_indexer] = value instead\n",
            "\n",
            "See the caveats in the documentation: https://pandas.pydata.org/pandas-docs/stable/user_guide/indexing.html#returning-a-view-versus-a-copy\n",
            "\r 42%|████▏     | 25/60 [03:04<02:02,  3.49s/it]"
          ]
        },
        {
          "output_type": "stream",
          "name": "stdout",
          "text": [
            "Done word2vec Training\n",
            "배우 최진혁, 방역수칙 위반 입건...\"불법 유흥업소 몰랐다\"\n",
            "  word  cluster  count  length\n",
            "0  코로나        0     64       3\n",
            "1   불법        0     44       2\n",
            "배우 최진혁, 방역수칙 위반 입건...\"불법 유흥업소 몰랐다\"\n",
            "  word  cluster  count  length\n",
            "0   사람        1     32       2\n",
            "배우 최진혁, 방역수칙 위반 입건...\"불법 유흥업소 몰랐다\"\n",
            "Empty DataFrame\n",
            "Columns: [word, cluster, count, length]\n",
            "Index: []\n"
          ]
        },
        {
          "output_type": "stream",
          "name": "stderr",
          "text": [
            "/usr/local/lib/python3.7/dist-packages/ipykernel_launcher.py:45: DeprecationWarning: Call to deprecated `__getitem__` (Method will be removed in 4.0.0, use self.wv.__getitem__() instead).\n",
            "/usr/local/lib/python3.7/dist-packages/ipykernel_launcher.py:47: DeprecationWarning: Call to deprecated `__getitem__` (Method will be removed in 4.0.0, use self.wv.__getitem__() instead).\n",
            "/usr/local/lib/python3.7/dist-packages/ipykernel_launcher.py:51: DeprecationWarning: Call to deprecated `__getitem__` (Method will be removed in 4.0.0, use self.wv.__getitem__() instead).\n",
            "\r 43%|████▎     | 26/60 [03:05<01:36,  2.83s/it]"
          ]
        },
        {
          "output_type": "stream",
          "name": "stdout",
          "text": [
            "Done word2vec Training\n",
            "Done word2vec Training\n",
            "내년도 전세시장 충격 경고한 경제학자 \"공포장 옵니다\"\n",
            "  word  cluster  count  length\n",
            "0   나라        0     90       2\n",
            "1  문재인        0     52       3\n",
            "내년도 전세시장 충격 경고한 경제학자 \"공포장 옵니다\"\n",
            "  word  cluster  count  length\n",
            "0  임대차        1     40       3\n",
            "1   정부        1     34       2\n",
            "내년도 전세시장 충격 경고한 경제학자 \"공포장 옵니다\"\n",
            "  word  cluster  count  length\n",
            "0  부동산        2     61       3\n",
            "1   월세        2     50       2\n"
          ]
        },
        {
          "output_type": "stream",
          "name": "stderr",
          "text": [
            "/usr/local/lib/python3.7/dist-packages/ipykernel_launcher.py:45: DeprecationWarning: Call to deprecated `__getitem__` (Method will be removed in 4.0.0, use self.wv.__getitem__() instead).\n",
            "/usr/local/lib/python3.7/dist-packages/ipykernel_launcher.py:47: DeprecationWarning: Call to deprecated `__getitem__` (Method will be removed in 4.0.0, use self.wv.__getitem__() instead).\n",
            "/usr/local/lib/python3.7/dist-packages/ipykernel_launcher.py:51: DeprecationWarning: Call to deprecated `__getitem__` (Method will be removed in 4.0.0, use self.wv.__getitem__() instead).\n",
            "/usr/local/lib/python3.7/dist-packages/ipykernel_launcher.py:84: SettingWithCopyWarning: \n",
            "A value is trying to be set on a copy of a slice from a DataFrame.\n",
            "Try using .loc[row_indexer,col_indexer] = value instead\n",
            "\n",
            "See the caveats in the documentation: https://pandas.pydata.org/pandas-docs/stable/user_guide/indexing.html#returning-a-view-versus-a-copy\n",
            "/usr/local/lib/python3.7/dist-packages/ipykernel_launcher.py:84: SettingWithCopyWarning: \n",
            "A value is trying to be set on a copy of a slice from a DataFrame.\n",
            "Try using .loc[row_indexer,col_indexer] = value instead\n",
            "\n",
            "See the caveats in the documentation: https://pandas.pydata.org/pandas-docs/stable/user_guide/indexing.html#returning-a-view-versus-a-copy\n",
            "/usr/local/lib/python3.7/dist-packages/ipykernel_launcher.py:84: SettingWithCopyWarning: \n",
            "A value is trying to be set on a copy of a slice from a DataFrame.\n",
            "Try using .loc[row_indexer,col_indexer] = value instead\n",
            "\n",
            "See the caveats in the documentation: https://pandas.pydata.org/pandas-docs/stable/user_guide/indexing.html#returning-a-view-versus-a-copy\n",
            "/usr/local/lib/python3.7/dist-packages/ipykernel_launcher.py:84: SettingWithCopyWarning: \n",
            "A value is trying to be set on a copy of a slice from a DataFrame.\n",
            "Try using .loc[row_indexer,col_indexer] = value instead\n",
            "\n",
            "See the caveats in the documentation: https://pandas.pydata.org/pandas-docs/stable/user_guide/indexing.html#returning-a-view-versus-a-copy\n",
            "/usr/local/lib/python3.7/dist-packages/ipykernel_launcher.py:84: SettingWithCopyWarning: \n",
            "A value is trying to be set on a copy of a slice from a DataFrame.\n",
            "Try using .loc[row_indexer,col_indexer] = value instead\n",
            "\n",
            "See the caveats in the documentation: https://pandas.pydata.org/pandas-docs/stable/user_guide/indexing.html#returning-a-view-versus-a-copy\n",
            " 45%|████▌     | 27/60 [03:11<01:59,  3.63s/it]"
          ]
        },
        {
          "output_type": "stream",
          "name": "stdout",
          "text": [
            "내년도 전세시장 충격 경고한 경제학자 \"공포장 옵니다\"\n",
            "  word  cluster  count  length\n",
            "0   집값        3    134       2\n",
            "1   정권        3     52       2\n",
            "내년도 전세시장 충격 경고한 경제학자 \"공포장 옵니다\"\n",
            "  word  cluster  count  length\n",
            "0   전세        4    104       2\n",
            "Done word2vec Training\n"
          ]
        },
        {
          "output_type": "stream",
          "name": "stderr",
          "text": [
            "/usr/local/lib/python3.7/dist-packages/ipykernel_launcher.py:45: DeprecationWarning: Call to deprecated `__getitem__` (Method will be removed in 4.0.0, use self.wv.__getitem__() instead).\n",
            "/usr/local/lib/python3.7/dist-packages/ipykernel_launcher.py:47: DeprecationWarning: Call to deprecated `__getitem__` (Method will be removed in 4.0.0, use self.wv.__getitem__() instead).\n",
            "/usr/local/lib/python3.7/dist-packages/ipykernel_launcher.py:51: DeprecationWarning: Call to deprecated `__getitem__` (Method will be removed in 4.0.0, use self.wv.__getitem__() instead).\n",
            "/usr/local/lib/python3.7/dist-packages/ipykernel_launcher.py:84: SettingWithCopyWarning: \n",
            "A value is trying to be set on a copy of a slice from a DataFrame.\n",
            "Try using .loc[row_indexer,col_indexer] = value instead\n",
            "\n",
            "See the caveats in the documentation: https://pandas.pydata.org/pandas-docs/stable/user_guide/indexing.html#returning-a-view-versus-a-copy\n",
            "/usr/local/lib/python3.7/dist-packages/ipykernel_launcher.py:84: SettingWithCopyWarning: \n",
            "A value is trying to be set on a copy of a slice from a DataFrame.\n",
            "Try using .loc[row_indexer,col_indexer] = value instead\n",
            "\n",
            "See the caveats in the documentation: https://pandas.pydata.org/pandas-docs/stable/user_guide/indexing.html#returning-a-view-versus-a-copy\n",
            "/usr/local/lib/python3.7/dist-packages/ipykernel_launcher.py:84: SettingWithCopyWarning: \n",
            "A value is trying to be set on a copy of a slice from a DataFrame.\n",
            "Try using .loc[row_indexer,col_indexer] = value instead\n",
            "\n",
            "See the caveats in the documentation: https://pandas.pydata.org/pandas-docs/stable/user_guide/indexing.html#returning-a-view-versus-a-copy\n",
            " 47%|████▋     | 28/60 [03:33<04:55,  9.22s/it]"
          ]
        },
        {
          "output_type": "stream",
          "name": "stdout",
          "text": [
            "윤석열·홍준표·유승민·원희룡, 국민의힘 경선 2차 컷오프 통과\n",
            "   word  cluster  count  length\n",
            "0   윤석열        0    353       3\n",
            "1  윤석열이        0    348       4\n",
            "윤석열·홍준표·유승민·원희룡, 국민의힘 경선 2차 컷오프 통과\n",
            "  word  cluster  count  length\n",
            "0  유승민        1    644       3\n",
            "1  홍준표        1    390       3\n",
            "윤석열·홍준표·유승민·원희룡, 국민의힘 경선 2차 컷오프 통과\n",
            "  word  cluster  count  length\n",
            "0   승민        2    588       2\n",
            "1   준표        2    310       2\n"
          ]
        },
        {
          "output_type": "stream",
          "name": "stderr",
          "text": [
            "/usr/local/lib/python3.7/dist-packages/ipykernel_launcher.py:45: DeprecationWarning: Call to deprecated `__getitem__` (Method will be removed in 4.0.0, use self.wv.__getitem__() instead).\n",
            "/usr/local/lib/python3.7/dist-packages/ipykernel_launcher.py:47: DeprecationWarning: Call to deprecated `__getitem__` (Method will be removed in 4.0.0, use self.wv.__getitem__() instead).\n",
            "/usr/local/lib/python3.7/dist-packages/ipykernel_launcher.py:51: DeprecationWarning: Call to deprecated `__getitem__` (Method will be removed in 4.0.0, use self.wv.__getitem__() instead).\n",
            "/usr/local/lib/python3.7/dist-packages/ipykernel_launcher.py:84: SettingWithCopyWarning: \n",
            "A value is trying to be set on a copy of a slice from a DataFrame.\n",
            "Try using .loc[row_indexer,col_indexer] = value instead\n",
            "\n",
            "See the caveats in the documentation: https://pandas.pydata.org/pandas-docs/stable/user_guide/indexing.html#returning-a-view-versus-a-copy\n",
            "/usr/local/lib/python3.7/dist-packages/ipykernel_launcher.py:84: SettingWithCopyWarning: \n",
            "A value is trying to be set on a copy of a slice from a DataFrame.\n",
            "Try using .loc[row_indexer,col_indexer] = value instead\n",
            "\n",
            "See the caveats in the documentation: https://pandas.pydata.org/pandas-docs/stable/user_guide/indexing.html#returning-a-view-versus-a-copy\n",
            "/usr/local/lib/python3.7/dist-packages/ipykernel_launcher.py:84: SettingWithCopyWarning: \n",
            "A value is trying to be set on a copy of a slice from a DataFrame.\n",
            "Try using .loc[row_indexer,col_indexer] = value instead\n",
            "\n",
            "See the caveats in the documentation: https://pandas.pydata.org/pandas-docs/stable/user_guide/indexing.html#returning-a-view-versus-a-copy\n",
            "/usr/local/lib/python3.7/dist-packages/ipykernel_launcher.py:84: SettingWithCopyWarning: \n",
            "A value is trying to be set on a copy of a slice from a DataFrame.\n",
            "Try using .loc[row_indexer,col_indexer] = value instead\n",
            "\n",
            "See the caveats in the documentation: https://pandas.pydata.org/pandas-docs/stable/user_guide/indexing.html#returning-a-view-versus-a-copy\n",
            "/usr/local/lib/python3.7/dist-packages/ipykernel_launcher.py:84: SettingWithCopyWarning: \n",
            "A value is trying to be set on a copy of a slice from a DataFrame.\n",
            "Try using .loc[row_indexer,col_indexer] = value instead\n",
            "\n",
            "See the caveats in the documentation: https://pandas.pydata.org/pandas-docs/stable/user_guide/indexing.html#returning-a-view-versus-a-copy\n",
            "\r 48%|████▊     | 29/60 [03:38<04:00,  7.74s/it]"
          ]
        },
        {
          "output_type": "stream",
          "name": "stdout",
          "text": [
            "Done word2vec Training\n",
            "이재명 25%, 윤석열 20%…홍준표 한달새 6%p 올라 12% [한국갤럽]\n",
            "  word  cluster  count  length\n",
            "0   국민        0     41       2\n",
            "1   사람        0     39       2\n",
            "이재명 25%, 윤석열 20%…홍준표 한달새 6%p 올라 12% [한국갤럽]\n",
            "   word  cluster  count  length\n",
            "0  여론조사        1    100       4\n",
            "1    지지        1     75       2\n",
            "이재명 25%, 윤석열 20%…홍준표 한달새 6%p 올라 12% [한국갤럽]\n",
            "  word  cluster  count  length\n",
            "0  이재명        2    104       3\n",
            "1   후보        2     27       2\n",
            "이재명 25%, 윤석열 20%…홍준표 한달새 6%p 올라 12% [한국갤럽]\n",
            "  word  cluster  count  length\n",
            "0   조사        3     89       2\n",
            "1   조작        3     52       2\n",
            "이재명 25%, 윤석열 20%…홍준표 한달새 6%p 올라 12% [한국갤럽]\n",
            "  word  cluster  count  length\n",
            "0  대통령        4     31       3\n"
          ]
        },
        {
          "output_type": "stream",
          "name": "stderr",
          "text": [
            "/usr/local/lib/python3.7/dist-packages/ipykernel_launcher.py:45: DeprecationWarning: Call to deprecated `__getitem__` (Method will be removed in 4.0.0, use self.wv.__getitem__() instead).\n",
            "/usr/local/lib/python3.7/dist-packages/ipykernel_launcher.py:47: DeprecationWarning: Call to deprecated `__getitem__` (Method will be removed in 4.0.0, use self.wv.__getitem__() instead).\n",
            "/usr/local/lib/python3.7/dist-packages/ipykernel_launcher.py:51: DeprecationWarning: Call to deprecated `__getitem__` (Method will be removed in 4.0.0, use self.wv.__getitem__() instead).\n",
            "/usr/local/lib/python3.7/dist-packages/ipykernel_launcher.py:84: SettingWithCopyWarning: \n",
            "A value is trying to be set on a copy of a slice from a DataFrame.\n",
            "Try using .loc[row_indexer,col_indexer] = value instead\n",
            "\n",
            "See the caveats in the documentation: https://pandas.pydata.org/pandas-docs/stable/user_guide/indexing.html#returning-a-view-versus-a-copy\n",
            "/usr/local/lib/python3.7/dist-packages/ipykernel_launcher.py:84: SettingWithCopyWarning: \n",
            "A value is trying to be set on a copy of a slice from a DataFrame.\n",
            "Try using .loc[row_indexer,col_indexer] = value instead\n",
            "\n",
            "See the caveats in the documentation: https://pandas.pydata.org/pandas-docs/stable/user_guide/indexing.html#returning-a-view-versus-a-copy\n",
            "\r 50%|█████     | 30/60 [03:41<03:15,  6.51s/it]"
          ]
        },
        {
          "output_type": "stream",
          "name": "stdout",
          "text": [
            "Done word2vec Training\n",
            "도쿄 뒤흔든 5.9 강진…도심 피해 속출\n",
            "  word  cluster  count  length\n",
            "0   일본        0    120       2\n",
            "1   지진        0     71       2\n",
            "도쿄 뒤흔든 5.9 강진…도심 피해 속출\n",
            "Empty DataFrame\n",
            "Columns: [word, cluster, count, length]\n",
            "Index: []\n"
          ]
        },
        {
          "output_type": "stream",
          "name": "stderr",
          "text": [
            "/usr/local/lib/python3.7/dist-packages/ipykernel_launcher.py:45: DeprecationWarning: Call to deprecated `__getitem__` (Method will be removed in 4.0.0, use self.wv.__getitem__() instead).\n",
            "/usr/local/lib/python3.7/dist-packages/ipykernel_launcher.py:47: DeprecationWarning: Call to deprecated `__getitem__` (Method will be removed in 4.0.0, use self.wv.__getitem__() instead).\n",
            "/usr/local/lib/python3.7/dist-packages/ipykernel_launcher.py:51: DeprecationWarning: Call to deprecated `__getitem__` (Method will be removed in 4.0.0, use self.wv.__getitem__() instead).\n",
            "/usr/local/lib/python3.7/dist-packages/ipykernel_launcher.py:84: SettingWithCopyWarning: \n",
            "A value is trying to be set on a copy of a slice from a DataFrame.\n",
            "Try using .loc[row_indexer,col_indexer] = value instead\n",
            "\n",
            "See the caveats in the documentation: https://pandas.pydata.org/pandas-docs/stable/user_guide/indexing.html#returning-a-view-versus-a-copy\n",
            "/usr/local/lib/python3.7/dist-packages/ipykernel_launcher.py:84: SettingWithCopyWarning: \n",
            "A value is trying to be set on a copy of a slice from a DataFrame.\n",
            "Try using .loc[row_indexer,col_indexer] = value instead\n",
            "\n",
            "See the caveats in the documentation: https://pandas.pydata.org/pandas-docs/stable/user_guide/indexing.html#returning-a-view-versus-a-copy\n",
            "\r 52%|█████▏    | 31/60 [03:43<02:26,  5.06s/it]"
          ]
        },
        {
          "output_type": "stream",
          "name": "stdout",
          "text": [
            "Done word2vec Training\n",
            "美 5∼11세도 곧 백신 접종...바이든 \"백신이 경제 살려\"\n",
            "  word  cluster  count  length\n",
            "0   백신        0     53       2\n",
            "美 5∼11세도 곧 백신 접종...바이든 \"백신이 경제 살려\"\n",
            "  word  cluster  count  length\n",
            "0   미국        1     27       2\n"
          ]
        },
        {
          "output_type": "stream",
          "name": "stderr",
          "text": [
            "/usr/local/lib/python3.7/dist-packages/ipykernel_launcher.py:45: DeprecationWarning: Call to deprecated `__getitem__` (Method will be removed in 4.0.0, use self.wv.__getitem__() instead).\n",
            "/usr/local/lib/python3.7/dist-packages/ipykernel_launcher.py:47: DeprecationWarning: Call to deprecated `__getitem__` (Method will be removed in 4.0.0, use self.wv.__getitem__() instead).\n",
            "/usr/local/lib/python3.7/dist-packages/ipykernel_launcher.py:51: DeprecationWarning: Call to deprecated `__getitem__` (Method will be removed in 4.0.0, use self.wv.__getitem__() instead).\n",
            "/usr/local/lib/python3.7/dist-packages/ipykernel_launcher.py:84: SettingWithCopyWarning: \n",
            "A value is trying to be set on a copy of a slice from a DataFrame.\n",
            "Try using .loc[row_indexer,col_indexer] = value instead\n",
            "\n",
            "See the caveats in the documentation: https://pandas.pydata.org/pandas-docs/stable/user_guide/indexing.html#returning-a-view-versus-a-copy\n",
            "/usr/local/lib/python3.7/dist-packages/ipykernel_launcher.py:84: SettingWithCopyWarning: \n",
            "A value is trying to be set on a copy of a slice from a DataFrame.\n",
            "Try using .loc[row_indexer,col_indexer] = value instead\n",
            "\n",
            "See the caveats in the documentation: https://pandas.pydata.org/pandas-docs/stable/user_guide/indexing.html#returning-a-view-versus-a-copy\n",
            "\r 53%|█████▎    | 32/60 [03:49<02:28,  5.29s/it]"
          ]
        },
        {
          "output_type": "stream",
          "name": "stdout",
          "text": [
            "Done word2vec Training\n",
            "국민대 학생 94.4% \"김건희 박사 논문 의혹 재조사해야\"\n",
            "  word  cluster  count  length\n",
            "0   학생        0    110       2\n",
            "1   논문        0     85       2\n",
            "국민대 학생 94.4% \"김건희 박사 논문 의혹 재조사해야\"\n",
            "  word  cluster  count  length\n",
            "0   국민        1    191       2\n",
            "1  국민대        1    186       3\n",
            "Done word2vec Training\n"
          ]
        },
        {
          "output_type": "stream",
          "name": "stderr",
          "text": [
            "/usr/local/lib/python3.7/dist-packages/ipykernel_launcher.py:45: DeprecationWarning: Call to deprecated `__getitem__` (Method will be removed in 4.0.0, use self.wv.__getitem__() instead).\n",
            "/usr/local/lib/python3.7/dist-packages/ipykernel_launcher.py:47: DeprecationWarning: Call to deprecated `__getitem__` (Method will be removed in 4.0.0, use self.wv.__getitem__() instead).\n",
            "/usr/local/lib/python3.7/dist-packages/ipykernel_launcher.py:51: DeprecationWarning: Call to deprecated `__getitem__` (Method will be removed in 4.0.0, use self.wv.__getitem__() instead).\n",
            "/usr/local/lib/python3.7/dist-packages/ipykernel_launcher.py:84: SettingWithCopyWarning: \n",
            "A value is trying to be set on a copy of a slice from a DataFrame.\n",
            "Try using .loc[row_indexer,col_indexer] = value instead\n",
            "\n",
            "See the caveats in the documentation: https://pandas.pydata.org/pandas-docs/stable/user_guide/indexing.html#returning-a-view-versus-a-copy\n",
            "/usr/local/lib/python3.7/dist-packages/ipykernel_launcher.py:84: SettingWithCopyWarning: \n",
            "A value is trying to be set on a copy of a slice from a DataFrame.\n",
            "Try using .loc[row_indexer,col_indexer] = value instead\n",
            "\n",
            "See the caveats in the documentation: https://pandas.pydata.org/pandas-docs/stable/user_guide/indexing.html#returning-a-view-versus-a-copy\n",
            " 55%|█████▌    | 33/60 [04:14<05:01, 11.19s/it]"
          ]
        },
        {
          "output_type": "stream",
          "name": "stdout",
          "text": [
            "이재명 26% 윤석열 17% 홍준표 15% 이낙연 11%…대장동 논란 李 3%↓\n",
            "   word  cluster  count  length\n",
            "0  여론조작        0    549       4\n",
            "1    여론        0    504       2\n",
            "이재명 26% 윤석열 17% 홍준표 15% 이낙연 11%…대장동 논란 李 3%↓\n",
            "   word  cluster  count  length\n",
            "0   이재명        1    644       3\n",
            "1  여론조사        1    625       4\n"
          ]
        },
        {
          "output_type": "stream",
          "name": "stderr",
          "text": [
            "/usr/local/lib/python3.7/dist-packages/ipykernel_launcher.py:45: DeprecationWarning: Call to deprecated `__getitem__` (Method will be removed in 4.0.0, use self.wv.__getitem__() instead).\n",
            "/usr/local/lib/python3.7/dist-packages/ipykernel_launcher.py:47: DeprecationWarning: Call to deprecated `__getitem__` (Method will be removed in 4.0.0, use self.wv.__getitem__() instead).\n",
            "/usr/local/lib/python3.7/dist-packages/ipykernel_launcher.py:51: DeprecationWarning: Call to deprecated `__getitem__` (Method will be removed in 4.0.0, use self.wv.__getitem__() instead).\n",
            "\r 57%|█████▋    | 34/60 [04:16<03:39,  8.46s/it]"
          ]
        },
        {
          "output_type": "stream",
          "name": "stdout",
          "text": [
            "Done word2vec Training\n",
            "Done word2vec Training\n"
          ]
        },
        {
          "output_type": "stream",
          "name": "stderr",
          "text": [
            "/usr/local/lib/python3.7/dist-packages/ipykernel_launcher.py:45: DeprecationWarning: Call to deprecated `__getitem__` (Method will be removed in 4.0.0, use self.wv.__getitem__() instead).\n",
            "/usr/local/lib/python3.7/dist-packages/ipykernel_launcher.py:47: DeprecationWarning: Call to deprecated `__getitem__` (Method will be removed in 4.0.0, use self.wv.__getitem__() instead).\n",
            "/usr/local/lib/python3.7/dist-packages/ipykernel_launcher.py:51: DeprecationWarning: Call to deprecated `__getitem__` (Method will be removed in 4.0.0, use self.wv.__getitem__() instead).\n",
            "/usr/local/lib/python3.7/dist-packages/ipykernel_launcher.py:84: SettingWithCopyWarning: \n",
            "A value is trying to be set on a copy of a slice from a DataFrame.\n",
            "Try using .loc[row_indexer,col_indexer] = value instead\n",
            "\n",
            "See the caveats in the documentation: https://pandas.pydata.org/pandas-docs/stable/user_guide/indexing.html#returning-a-view-versus-a-copy\n",
            "/usr/local/lib/python3.7/dist-packages/ipykernel_launcher.py:84: SettingWithCopyWarning: \n",
            "A value is trying to be set on a copy of a slice from a DataFrame.\n",
            "Try using .loc[row_indexer,col_indexer] = value instead\n",
            "\n",
            "See the caveats in the documentation: https://pandas.pydata.org/pandas-docs/stable/user_guide/indexing.html#returning-a-view-versus-a-copy\n",
            " 58%|█████▊    | 35/60 [04:27<03:50,  9.23s/it]"
          ]
        },
        {
          "output_type": "stream",
          "name": "stdout",
          "text": [
            "가수 최성봉, 거짓 암투병? 진단서 공개 뒤 \"이젠 안 참겠다\"\n",
            "  word  cluster  count  length\n",
            "0   사람        0    301       2\n",
            "1   거짓        0    145       2\n",
            "가수 최성봉, 거짓 암투병? 진단서 공개 뒤 \"이젠 안 참겠다\"\n",
            "  word  cluster  count  length\n",
            "0   기자        1    162       2\n",
            "1   유튜        1    135       2\n"
          ]
        },
        {
          "output_type": "stream",
          "name": "stderr",
          "text": [
            "/usr/local/lib/python3.7/dist-packages/ipykernel_launcher.py:45: DeprecationWarning: Call to deprecated `__getitem__` (Method will be removed in 4.0.0, use self.wv.__getitem__() instead).\n",
            "/usr/local/lib/python3.7/dist-packages/ipykernel_launcher.py:47: DeprecationWarning: Call to deprecated `__getitem__` (Method will be removed in 4.0.0, use self.wv.__getitem__() instead).\n",
            "/usr/local/lib/python3.7/dist-packages/ipykernel_launcher.py:51: DeprecationWarning: Call to deprecated `__getitem__` (Method will be removed in 4.0.0, use self.wv.__getitem__() instead).\n",
            "/usr/local/lib/python3.7/dist-packages/ipykernel_launcher.py:84: SettingWithCopyWarning: \n",
            "A value is trying to be set on a copy of a slice from a DataFrame.\n",
            "Try using .loc[row_indexer,col_indexer] = value instead\n",
            "\n",
            "See the caveats in the documentation: https://pandas.pydata.org/pandas-docs/stable/user_guide/indexing.html#returning-a-view-versus-a-copy\n",
            "/usr/local/lib/python3.7/dist-packages/ipykernel_launcher.py:84: SettingWithCopyWarning: \n",
            "A value is trying to be set on a copy of a slice from a DataFrame.\n",
            "Try using .loc[row_indexer,col_indexer] = value instead\n",
            "\n",
            "See the caveats in the documentation: https://pandas.pydata.org/pandas-docs/stable/user_guide/indexing.html#returning-a-view-versus-a-copy\n",
            "/usr/local/lib/python3.7/dist-packages/ipykernel_launcher.py:84: SettingWithCopyWarning: \n",
            "A value is trying to be set on a copy of a slice from a DataFrame.\n",
            "Try using .loc[row_indexer,col_indexer] = value instead\n",
            "\n",
            "See the caveats in the documentation: https://pandas.pydata.org/pandas-docs/stable/user_guide/indexing.html#returning-a-view-versus-a-copy\n",
            "/usr/local/lib/python3.7/dist-packages/ipykernel_launcher.py:84: SettingWithCopyWarning: \n",
            "A value is trying to be set on a copy of a slice from a DataFrame.\n",
            "Try using .loc[row_indexer,col_indexer] = value instead\n",
            "\n",
            "See the caveats in the documentation: https://pandas.pydata.org/pandas-docs/stable/user_guide/indexing.html#returning-a-view-versus-a-copy\n",
            "\r 60%|██████    | 36/60 [04:32<03:13,  8.07s/it]"
          ]
        },
        {
          "output_type": "stream",
          "name": "stdout",
          "text": [
            "Done word2vec Training\n",
            "9일 동안 170번 학대 행위‥\"다른 아이 남긴 죽 먹여\"\n",
            "  word  cluster  count  length\n",
            "0   처벌        0     66       2\n",
            "1   학대        0     59       2\n",
            "9일 동안 170번 학대 행위‥\"다른 아이 남긴 죽 먹여\"\n",
            "   word  cluster  count  length\n",
            "0  아동학대        1     77       4\n",
            "1    영어        1     27       2\n",
            "9일 동안 170번 학대 행위‥\"다른 아이 남긴 죽 먹여\"\n",
            "Empty DataFrame\n",
            "Columns: [word, cluster, count, length]\n",
            "Index: []\n",
            "9일 동안 170번 학대 행위‥\"다른 아이 남긴 죽 먹여\"\n",
            "  word  cluster  count  length\n",
            "0   교사        3     95       2\n",
            "1   엄마        3     53       2\n"
          ]
        },
        {
          "output_type": "stream",
          "name": "stderr",
          "text": [
            "/usr/local/lib/python3.7/dist-packages/ipykernel_launcher.py:45: DeprecationWarning: Call to deprecated `__getitem__` (Method will be removed in 4.0.0, use self.wv.__getitem__() instead).\n",
            "/usr/local/lib/python3.7/dist-packages/ipykernel_launcher.py:47: DeprecationWarning: Call to deprecated `__getitem__` (Method will be removed in 4.0.0, use self.wv.__getitem__() instead).\n",
            "/usr/local/lib/python3.7/dist-packages/ipykernel_launcher.py:51: DeprecationWarning: Call to deprecated `__getitem__` (Method will be removed in 4.0.0, use self.wv.__getitem__() instead).\n",
            "\r 62%|██████▏   | 37/60 [04:34<02:22,  6.18s/it]"
          ]
        },
        {
          "output_type": "stream",
          "name": "stdout",
          "text": [
            "Done word2vec Training\n"
          ]
        },
        {
          "output_type": "stream",
          "name": "stderr",
          "text": [
            "/usr/local/lib/python3.7/dist-packages/ipykernel_launcher.py:45: DeprecationWarning: Call to deprecated `__getitem__` (Method will be removed in 4.0.0, use self.wv.__getitem__() instead).\n",
            "/usr/local/lib/python3.7/dist-packages/ipykernel_launcher.py:47: DeprecationWarning: Call to deprecated `__getitem__` (Method will be removed in 4.0.0, use self.wv.__getitem__() instead).\n",
            "/usr/local/lib/python3.7/dist-packages/ipykernel_launcher.py:51: DeprecationWarning: Call to deprecated `__getitem__` (Method will be removed in 4.0.0, use self.wv.__getitem__() instead).\n",
            "\r 63%|██████▎   | 38/60 [04:37<01:56,  5.29s/it]"
          ]
        },
        {
          "output_type": "stream",
          "name": "stdout",
          "text": [
            "Done word2vec Training\n",
            "Done word2vec Training\n",
            "국민의힘 주자 오늘 4명 남는다…윤석열-홍준표-유승민-그리고 '?'\n",
            "  word  cluster  count  length\n",
            "0  원희룡        0     85       3\n",
            "1   보수        0     51       2\n",
            "국민의힘 주자 오늘 4명 남는다…윤석열-홍준표-유승민-그리고 '?'\n",
            "  word  cluster  count  length\n",
            "0  홍준표        1    178       3\n",
            "1   지지        1     49       2\n"
          ]
        },
        {
          "output_type": "stream",
          "name": "stderr",
          "text": [
            "/usr/local/lib/python3.7/dist-packages/ipykernel_launcher.py:45: DeprecationWarning: Call to deprecated `__getitem__` (Method will be removed in 4.0.0, use self.wv.__getitem__() instead).\n",
            "/usr/local/lib/python3.7/dist-packages/ipykernel_launcher.py:47: DeprecationWarning: Call to deprecated `__getitem__` (Method will be removed in 4.0.0, use self.wv.__getitem__() instead).\n",
            "/usr/local/lib/python3.7/dist-packages/ipykernel_launcher.py:51: DeprecationWarning: Call to deprecated `__getitem__` (Method will be removed in 4.0.0, use self.wv.__getitem__() instead).\n",
            "/usr/local/lib/python3.7/dist-packages/ipykernel_launcher.py:84: SettingWithCopyWarning: \n",
            "A value is trying to be set on a copy of a slice from a DataFrame.\n",
            "Try using .loc[row_indexer,col_indexer] = value instead\n",
            "\n",
            "See the caveats in the documentation: https://pandas.pydata.org/pandas-docs/stable/user_guide/indexing.html#returning-a-view-versus-a-copy\n",
            "/usr/local/lib/python3.7/dist-packages/ipykernel_launcher.py:84: SettingWithCopyWarning: \n",
            "A value is trying to be set on a copy of a slice from a DataFrame.\n",
            "Try using .loc[row_indexer,col_indexer] = value instead\n",
            "\n",
            "See the caveats in the documentation: https://pandas.pydata.org/pandas-docs/stable/user_guide/indexing.html#returning-a-view-versus-a-copy\n",
            "/usr/local/lib/python3.7/dist-packages/ipykernel_launcher.py:84: SettingWithCopyWarning: \n",
            "A value is trying to be set on a copy of a slice from a DataFrame.\n",
            "Try using .loc[row_indexer,col_indexer] = value instead\n",
            "\n",
            "See the caveats in the documentation: https://pandas.pydata.org/pandas-docs/stable/user_guide/indexing.html#returning-a-view-versus-a-copy\n",
            "/usr/local/lib/python3.7/dist-packages/ipykernel_launcher.py:84: SettingWithCopyWarning: \n",
            "A value is trying to be set on a copy of a slice from a DataFrame.\n",
            "Try using .loc[row_indexer,col_indexer] = value instead\n",
            "\n",
            "See the caveats in the documentation: https://pandas.pydata.org/pandas-docs/stable/user_guide/indexing.html#returning-a-view-versus-a-copy\n",
            "/usr/local/lib/python3.7/dist-packages/ipykernel_launcher.py:84: SettingWithCopyWarning: \n",
            "A value is trying to be set on a copy of a slice from a DataFrame.\n",
            "Try using .loc[row_indexer,col_indexer] = value instead\n",
            "\n",
            "See the caveats in the documentation: https://pandas.pydata.org/pandas-docs/stable/user_guide/indexing.html#returning-a-view-versus-a-copy\n",
            " 65%|██████▌   | 39/60 [04:45<02:05,  6.00s/it]"
          ]
        },
        {
          "output_type": "stream",
          "name": "stdout",
          "text": [
            "국민의힘 주자 오늘 4명 남는다…윤석열-홍준표-유승민-그리고 '?'\n",
            "  word  cluster  count  length\n",
            "0  윤석열        2    116       3\n",
            "1  배신자        2     59       3\n",
            "국민의힘 주자 오늘 4명 남는다…윤석열-홍준표-유승민-그리고 '?'\n",
            "  word  cluster  count  length\n",
            "0  유승민        3    267       3\n",
            "1   국민        3     70       2\n",
            "국민의힘 주자 오늘 4명 남는다…윤석열-홍준표-유승민-그리고 '?'\n",
            "  word  cluster  count  length\n",
            "0  황교안        4    112       3\n",
            "1   후보        4     70       2\n"
          ]
        },
        {
          "output_type": "stream",
          "name": "stderr",
          "text": [
            "\r 67%|██████▋   | 40/60 [04:47<01:35,  4.79s/it]"
          ]
        },
        {
          "output_type": "stream",
          "name": "stdout",
          "text": [
            "Done word2vec Training\n"
          ]
        },
        {
          "output_type": "stream",
          "name": "stderr",
          "text": [
            "/usr/local/lib/python3.7/dist-packages/ipykernel_launcher.py:45: DeprecationWarning: Call to deprecated `__getitem__` (Method will be removed in 4.0.0, use self.wv.__getitem__() instead).\n",
            "/usr/local/lib/python3.7/dist-packages/ipykernel_launcher.py:47: DeprecationWarning: Call to deprecated `__getitem__` (Method will be removed in 4.0.0, use self.wv.__getitem__() instead).\n",
            "/usr/local/lib/python3.7/dist-packages/ipykernel_launcher.py:51: DeprecationWarning: Call to deprecated `__getitem__` (Method will be removed in 4.0.0, use self.wv.__getitem__() instead).\n",
            "/usr/local/lib/python3.7/dist-packages/ipykernel_launcher.py:84: SettingWithCopyWarning: \n",
            "A value is trying to be set on a copy of a slice from a DataFrame.\n",
            "Try using .loc[row_indexer,col_indexer] = value instead\n",
            "\n",
            "See the caveats in the documentation: https://pandas.pydata.org/pandas-docs/stable/user_guide/indexing.html#returning-a-view-versus-a-copy\n",
            "/usr/local/lib/python3.7/dist-packages/ipykernel_launcher.py:84: SettingWithCopyWarning: \n",
            "A value is trying to be set on a copy of a slice from a DataFrame.\n",
            "Try using .loc[row_indexer,col_indexer] = value instead\n",
            "\n",
            "See the caveats in the documentation: https://pandas.pydata.org/pandas-docs/stable/user_guide/indexing.html#returning-a-view-versus-a-copy\n",
            " 68%|██████▊   | 41/60 [05:06<02:55,  9.22s/it]"
          ]
        },
        {
          "output_type": "stream",
          "name": "stdout",
          "text": [
            "아르바이트 퇴근길에 참변…음주 뺑소니에 20대 여성 숨져\n",
            "  word  cluster  count  length\n",
            "0  살인죄        0    321       3\n",
            "1   사형        0    308       2\n",
            "아르바이트 퇴근길에 참변…음주 뺑소니에 20대 여성 숨져\n",
            "   word  cluster  count  length\n",
            "0  음주운전        1    923       4\n",
            "1    음주        1    805       2\n",
            "Done word2vec Training\n",
            "[단독] 유시민, 노무현재단 이사장 연임 않고 퇴임… 이재명 돕나\n",
            "  word  cluster  count  length\n",
            "0   인간        0     53       2\n",
            "1  대통령        0     38       3\n",
            "[단독] 유시민, 노무현재단 이사장 연임 않고 퇴임… 이재명 돕나\n",
            "  word  cluster  count  length\n",
            "0  유시민        1    196       3\n",
            "1   사람        1     69       2\n",
            "[단독] 유시민, 노무현재단 이사장 연임 않고 퇴임… 이재명 돕나\n"
          ]
        },
        {
          "output_type": "stream",
          "name": "stderr",
          "text": [
            "/usr/local/lib/python3.7/dist-packages/ipykernel_launcher.py:45: DeprecationWarning: Call to deprecated `__getitem__` (Method will be removed in 4.0.0, use self.wv.__getitem__() instead).\n",
            "/usr/local/lib/python3.7/dist-packages/ipykernel_launcher.py:47: DeprecationWarning: Call to deprecated `__getitem__` (Method will be removed in 4.0.0, use self.wv.__getitem__() instead).\n",
            "/usr/local/lib/python3.7/dist-packages/ipykernel_launcher.py:51: DeprecationWarning: Call to deprecated `__getitem__` (Method will be removed in 4.0.0, use self.wv.__getitem__() instead).\n",
            "/usr/local/lib/python3.7/dist-packages/ipykernel_launcher.py:84: SettingWithCopyWarning: \n",
            "A value is trying to be set on a copy of a slice from a DataFrame.\n",
            "Try using .loc[row_indexer,col_indexer] = value instead\n",
            "\n",
            "See the caveats in the documentation: https://pandas.pydata.org/pandas-docs/stable/user_guide/indexing.html#returning-a-view-versus-a-copy\n",
            "/usr/local/lib/python3.7/dist-packages/ipykernel_launcher.py:84: SettingWithCopyWarning: \n",
            "A value is trying to be set on a copy of a slice from a DataFrame.\n",
            "Try using .loc[row_indexer,col_indexer] = value instead\n",
            "\n",
            "See the caveats in the documentation: https://pandas.pydata.org/pandas-docs/stable/user_guide/indexing.html#returning-a-view-versus-a-copy\n",
            "/usr/local/lib/python3.7/dist-packages/ipykernel_launcher.py:84: SettingWithCopyWarning: \n",
            "A value is trying to be set on a copy of a slice from a DataFrame.\n",
            "Try using .loc[row_indexer,col_indexer] = value instead\n",
            "\n",
            "See the caveats in the documentation: https://pandas.pydata.org/pandas-docs/stable/user_guide/indexing.html#returning-a-view-versus-a-copy\n",
            "/usr/local/lib/python3.7/dist-packages/ipykernel_launcher.py:84: SettingWithCopyWarning: \n",
            "A value is trying to be set on a copy of a slice from a DataFrame.\n",
            "Try using .loc[row_indexer,col_indexer] = value instead\n",
            "\n",
            "See the caveats in the documentation: https://pandas.pydata.org/pandas-docs/stable/user_guide/indexing.html#returning-a-view-versus-a-copy\n",
            "/usr/local/lib/python3.7/dist-packages/ipykernel_launcher.py:84: SettingWithCopyWarning: \n",
            "A value is trying to be set on a copy of a slice from a DataFrame.\n",
            "Try using .loc[row_indexer,col_indexer] = value instead\n",
            "\n",
            "See the caveats in the documentation: https://pandas.pydata.org/pandas-docs/stable/user_guide/indexing.html#returning-a-view-versus-a-copy\n",
            " 70%|███████   | 42/60 [05:15<02:44,  9.11s/it]"
          ]
        },
        {
          "output_type": "stream",
          "name": "stdout",
          "text": [
            "  word  cluster  count  length\n",
            "0   촉새        2     77       2\n",
            "1  쓰레기        2     61       3\n",
            "[단독] 유시민, 노무현재단 이사장 연임 않고 퇴임… 이재명 돕나\n",
            "  word  cluster  count  length\n",
            "0   정치        3     68       2\n",
            "1  노무현        3     50       3\n",
            "[단독] 유시민, 노무현재단 이사장 연임 않고 퇴임… 이재명 돕나\n",
            "  word  cluster  count  length\n",
            "0  이재명        4    151       3\n",
            "1   유촉        4     54       2\n"
          ]
        },
        {
          "output_type": "stream",
          "name": "stderr",
          "text": [
            "/usr/local/lib/python3.7/dist-packages/ipykernel_launcher.py:45: DeprecationWarning: Call to deprecated `__getitem__` (Method will be removed in 4.0.0, use self.wv.__getitem__() instead).\n",
            "/usr/local/lib/python3.7/dist-packages/ipykernel_launcher.py:47: DeprecationWarning: Call to deprecated `__getitem__` (Method will be removed in 4.0.0, use self.wv.__getitem__() instead).\n",
            "/usr/local/lib/python3.7/dist-packages/ipykernel_launcher.py:51: DeprecationWarning: Call to deprecated `__getitem__` (Method will be removed in 4.0.0, use self.wv.__getitem__() instead).\n",
            "/usr/local/lib/python3.7/dist-packages/ipykernel_launcher.py:84: SettingWithCopyWarning: \n",
            "A value is trying to be set on a copy of a slice from a DataFrame.\n",
            "Try using .loc[row_indexer,col_indexer] = value instead\n",
            "\n",
            "See the caveats in the documentation: https://pandas.pydata.org/pandas-docs/stable/user_guide/indexing.html#returning-a-view-versus-a-copy\n",
            "/usr/local/lib/python3.7/dist-packages/ipykernel_launcher.py:84: SettingWithCopyWarning: \n",
            "A value is trying to be set on a copy of a slice from a DataFrame.\n",
            "Try using .loc[row_indexer,col_indexer] = value instead\n",
            "\n",
            "See the caveats in the documentation: https://pandas.pydata.org/pandas-docs/stable/user_guide/indexing.html#returning-a-view-versus-a-copy\n",
            "\r 72%|███████▏  | 43/60 [05:20<02:14,  7.93s/it]"
          ]
        },
        {
          "output_type": "stream",
          "name": "stdout",
          "text": [
            "Done word2vec Training\n",
            "‘오징어게임’ 달고나 한국민속촌 상륙…“이거 죽으라는 건가”\n",
            "  word  cluster  count  length\n",
            "0  오징어        0     82       3\n",
            "‘오징어게임’ 달고나 한국민속촌 상륙…“이거 죽으라는 건가”\n",
            "  word  cluster  count  length\n",
            "0   뽑기        1    112       2\n",
            "1  민속촌        1     90       3\n"
          ]
        },
        {
          "output_type": "stream",
          "name": "stderr",
          "text": [
            "\r 73%|███████▎  | 44/60 [05:21<01:33,  5.85s/it]"
          ]
        },
        {
          "output_type": "stream",
          "name": "stdout",
          "text": [
            "Done word2vec Training\n"
          ]
        },
        {
          "output_type": "stream",
          "name": "stderr",
          "text": [
            "/usr/local/lib/python3.7/dist-packages/ipykernel_launcher.py:45: DeprecationWarning: Call to deprecated `__getitem__` (Method will be removed in 4.0.0, use self.wv.__getitem__() instead).\n",
            "/usr/local/lib/python3.7/dist-packages/ipykernel_launcher.py:47: DeprecationWarning: Call to deprecated `__getitem__` (Method will be removed in 4.0.0, use self.wv.__getitem__() instead).\n",
            "/usr/local/lib/python3.7/dist-packages/ipykernel_launcher.py:51: DeprecationWarning: Call to deprecated `__getitem__` (Method will be removed in 4.0.0, use self.wv.__getitem__() instead).\n",
            "/usr/local/lib/python3.7/dist-packages/ipykernel_launcher.py:84: SettingWithCopyWarning: \n",
            "A value is trying to be set on a copy of a slice from a DataFrame.\n",
            "Try using .loc[row_indexer,col_indexer] = value instead\n",
            "\n",
            "See the caveats in the documentation: https://pandas.pydata.org/pandas-docs/stable/user_guide/indexing.html#returning-a-view-versus-a-copy\n"
          ]
        },
        {
          "output_type": "stream",
          "name": "stdout",
          "text": [
            "\"이재명 옷과 윤석열 옷\"…어린시절 사진 비교한 李캠프\n",
            "  word  cluster  count  length\n",
            "0   수도        0    664       2\n",
            "1   지도        0    635       2\n"
          ]
        },
        {
          "output_type": "stream",
          "name": "stderr",
          "text": [
            "/usr/local/lib/python3.7/dist-packages/ipykernel_launcher.py:84: SettingWithCopyWarning: \n",
            "A value is trying to be set on a copy of a slice from a DataFrame.\n",
            "Try using .loc[row_indexer,col_indexer] = value instead\n",
            "\n",
            "See the caveats in the documentation: https://pandas.pydata.org/pandas-docs/stable/user_guide/indexing.html#returning-a-view-versus-a-copy\n",
            "\r 75%|███████▌  | 45/60 [06:00<03:56, 15.73s/it]"
          ]
        },
        {
          "output_type": "stream",
          "name": "stdout",
          "text": [
            "\"이재명 옷과 윤석열 옷\"…어린시절 사진 비교한 李캠프\n",
            "  word  cluster  count  length\n",
            "0   가난        1   1176       2\n",
            "1  가난이        1   1172       3\n"
          ]
        },
        {
          "output_type": "stream",
          "name": "stderr",
          "text": [
            "/usr/local/lib/python3.7/dist-packages/ipykernel_launcher.py:45: DeprecationWarning: Call to deprecated `__getitem__` (Method will be removed in 4.0.0, use self.wv.__getitem__() instead).\n",
            "/usr/local/lib/python3.7/dist-packages/ipykernel_launcher.py:47: DeprecationWarning: Call to deprecated `__getitem__` (Method will be removed in 4.0.0, use self.wv.__getitem__() instead).\n",
            "/usr/local/lib/python3.7/dist-packages/ipykernel_launcher.py:51: DeprecationWarning: Call to deprecated `__getitem__` (Method will be removed in 4.0.0, use self.wv.__getitem__() instead).\n",
            "/usr/local/lib/python3.7/dist-packages/ipykernel_launcher.py:84: SettingWithCopyWarning: \n",
            "A value is trying to be set on a copy of a slice from a DataFrame.\n",
            "Try using .loc[row_indexer,col_indexer] = value instead\n",
            "\n",
            "See the caveats in the documentation: https://pandas.pydata.org/pandas-docs/stable/user_guide/indexing.html#returning-a-view-versus-a-copy\n",
            "/usr/local/lib/python3.7/dist-packages/ipykernel_launcher.py:84: SettingWithCopyWarning: \n",
            "A value is trying to be set on a copy of a slice from a DataFrame.\n",
            "Try using .loc[row_indexer,col_indexer] = value instead\n",
            "\n",
            "See the caveats in the documentation: https://pandas.pydata.org/pandas-docs/stable/user_guide/indexing.html#returning-a-view-versus-a-copy\n",
            "\r 77%|███████▋  | 46/60 [06:03<02:45, 11.86s/it]"
          ]
        },
        {
          "output_type": "stream",
          "name": "stdout",
          "text": [
            "Done word2vec Training\n",
            "\"이재명의 옷, 윤석열의 옷\"… 홍준표 측 \"가난이 패션이냐\"\n",
            "  word  cluster  count  length\n",
            "0   사람        0     46       2\n",
            "1  이재명        0     39       3\n",
            "\"이재명의 옷, 윤석열의 옷\"… 홍준표 측 \"가난이 패션이냐\"\n",
            "  word  cluster  count  length\n",
            "0   가난        1     92       2\n",
            "1   사진        1     27       2\n"
          ]
        },
        {
          "output_type": "stream",
          "name": "stderr",
          "text": [
            "/usr/local/lib/python3.7/dist-packages/ipykernel_launcher.py:45: DeprecationWarning: Call to deprecated `__getitem__` (Method will be removed in 4.0.0, use self.wv.__getitem__() instead).\n",
            "/usr/local/lib/python3.7/dist-packages/ipykernel_launcher.py:47: DeprecationWarning: Call to deprecated `__getitem__` (Method will be removed in 4.0.0, use self.wv.__getitem__() instead).\n",
            "/usr/local/lib/python3.7/dist-packages/ipykernel_launcher.py:51: DeprecationWarning: Call to deprecated `__getitem__` (Method will be removed in 4.0.0, use self.wv.__getitem__() instead).\n",
            "/usr/local/lib/python3.7/dist-packages/ipykernel_launcher.py:84: SettingWithCopyWarning: \n",
            "A value is trying to be set on a copy of a slice from a DataFrame.\n",
            "Try using .loc[row_indexer,col_indexer] = value instead\n",
            "\n",
            "See the caveats in the documentation: https://pandas.pydata.org/pandas-docs/stable/user_guide/indexing.html#returning-a-view-versus-a-copy\n",
            "/usr/local/lib/python3.7/dist-packages/ipykernel_launcher.py:84: SettingWithCopyWarning: \n",
            "A value is trying to be set on a copy of a slice from a DataFrame.\n",
            "Try using .loc[row_indexer,col_indexer] = value instead\n",
            "\n",
            "See the caveats in the documentation: https://pandas.pydata.org/pandas-docs/stable/user_guide/indexing.html#returning-a-view-versus-a-copy\n",
            "\r 78%|███████▊  | 47/60 [06:07<02:05,  9.66s/it]"
          ]
        },
        {
          "output_type": "stream",
          "name": "stdout",
          "text": [
            "Done word2vec Training\n",
            "1억 들인 영상에 ‘중국이 충청도 지배’… 국박 “순간적으로 넘어가 못 봤다”\n",
            "  word  cluster  count  length\n",
            "0   나라        0     97       2\n",
            "1  박물관        0     53       3\n",
            "1억 들인 영상에 ‘중국이 충청도 지배’… 국박 “순간적으로 넘어가 못 봤다”\n",
            "  word  cluster  count  length\n",
            "0   중국        1    183       2\n",
            "1   실수        1     97       2\n",
            "Done word2vec Training\n"
          ]
        },
        {
          "output_type": "stream",
          "name": "stderr",
          "text": [
            "/usr/local/lib/python3.7/dist-packages/ipykernel_launcher.py:45: DeprecationWarning: Call to deprecated `__getitem__` (Method will be removed in 4.0.0, use self.wv.__getitem__() instead).\n",
            "/usr/local/lib/python3.7/dist-packages/ipykernel_launcher.py:47: DeprecationWarning: Call to deprecated `__getitem__` (Method will be removed in 4.0.0, use self.wv.__getitem__() instead).\n",
            "/usr/local/lib/python3.7/dist-packages/ipykernel_launcher.py:51: DeprecationWarning: Call to deprecated `__getitem__` (Method will be removed in 4.0.0, use self.wv.__getitem__() instead).\n",
            "/usr/local/lib/python3.7/dist-packages/ipykernel_launcher.py:84: SettingWithCopyWarning: \n",
            "A value is trying to be set on a copy of a slice from a DataFrame.\n",
            "Try using .loc[row_indexer,col_indexer] = value instead\n",
            "\n",
            "See the caveats in the documentation: https://pandas.pydata.org/pandas-docs/stable/user_guide/indexing.html#returning-a-view-versus-a-copy\n",
            "/usr/local/lib/python3.7/dist-packages/ipykernel_launcher.py:84: SettingWithCopyWarning: \n",
            "A value is trying to be set on a copy of a slice from a DataFrame.\n",
            "Try using .loc[row_indexer,col_indexer] = value instead\n",
            "\n",
            "See the caveats in the documentation: https://pandas.pydata.org/pandas-docs/stable/user_guide/indexing.html#returning-a-view-versus-a-copy\n",
            " 80%|████████  | 48/60 [06:24<02:19, 11.63s/it]"
          ]
        },
        {
          "output_type": "stream",
          "name": "stdout",
          "text": [
            "“'오징어게임' 체육복 베꼈다? 우리가 원조”…중국 관영매체 ‘발끈’\n",
            "  word  cluster  count  length\n",
            "0  중국은        0    411       3\n",
            "1  중국인        0    394       3\n",
            "“'오징어게임' 체육복 베꼈다? 우리가 원조”…중국 관영매체 ‘발끈’\n",
            "  word  cluster  count  length\n",
            "0   중국        1    532       2\n",
            "1  중국이        1    449       3\n"
          ]
        },
        {
          "output_type": "stream",
          "name": "stderr",
          "text": [
            "/usr/local/lib/python3.7/dist-packages/ipykernel_launcher.py:45: DeprecationWarning: Call to deprecated `__getitem__` (Method will be removed in 4.0.0, use self.wv.__getitem__() instead).\n",
            "/usr/local/lib/python3.7/dist-packages/ipykernel_launcher.py:47: DeprecationWarning: Call to deprecated `__getitem__` (Method will be removed in 4.0.0, use self.wv.__getitem__() instead).\n",
            "/usr/local/lib/python3.7/dist-packages/ipykernel_launcher.py:51: DeprecationWarning: Call to deprecated `__getitem__` (Method will be removed in 4.0.0, use self.wv.__getitem__() instead).\n",
            "/usr/local/lib/python3.7/dist-packages/ipykernel_launcher.py:84: SettingWithCopyWarning: \n",
            "A value is trying to be set on a copy of a slice from a DataFrame.\n",
            "Try using .loc[row_indexer,col_indexer] = value instead\n",
            "\n",
            "See the caveats in the documentation: https://pandas.pydata.org/pandas-docs/stable/user_guide/indexing.html#returning-a-view-versus-a-copy\n",
            "/usr/local/lib/python3.7/dist-packages/ipykernel_launcher.py:84: SettingWithCopyWarning: \n",
            "A value is trying to be set on a copy of a slice from a DataFrame.\n",
            "Try using .loc[row_indexer,col_indexer] = value instead\n",
            "\n",
            "See the caveats in the documentation: https://pandas.pydata.org/pandas-docs/stable/user_guide/indexing.html#returning-a-view-versus-a-copy\n",
            "\r 82%|████████▏ | 49/60 [06:31<01:52, 10.24s/it]"
          ]
        },
        {
          "output_type": "stream",
          "name": "stdout",
          "text": [
            "Done word2vec Training\n",
            "광주·전남 1위 못한 이재명…‘마의 57%’ 뚫고 文도 뛰어넘나\n",
            "  word  cluster  count  length\n",
            "0  이재명        0    177       3\n",
            "1   지지        0     87       2\n",
            "광주·전남 1위 못한 이재명…‘마의 57%’ 뚫고 文도 뛰어넘나\n",
            "  word  cluster  count  length\n",
            "0   나라        1    121       2\n",
            "1  전라도        1    102       3\n",
            "Done word2vec Training\n",
            "무면허·경찰폭행 장용준‥19일 만에야 영장 청구돼\n",
            "   word  cluster  count  length\n",
            "0  국회의원        0    136       4\n",
            "1    나라        0     93       2\n",
            "무면허·경찰폭행 장용준‥19일 만에야 영장 청구돼\n",
            "  word  cluster  count  length\n",
            "0   검찰        1     83       2\n",
            "1   일반        1     76       2\n"
          ]
        },
        {
          "output_type": "stream",
          "name": "stderr",
          "text": [
            "/usr/local/lib/python3.7/dist-packages/ipykernel_launcher.py:45: DeprecationWarning: Call to deprecated `__getitem__` (Method will be removed in 4.0.0, use self.wv.__getitem__() instead).\n",
            "/usr/local/lib/python3.7/dist-packages/ipykernel_launcher.py:47: DeprecationWarning: Call to deprecated `__getitem__` (Method will be removed in 4.0.0, use self.wv.__getitem__() instead).\n",
            "/usr/local/lib/python3.7/dist-packages/ipykernel_launcher.py:51: DeprecationWarning: Call to deprecated `__getitem__` (Method will be removed in 4.0.0, use self.wv.__getitem__() instead).\n",
            "/usr/local/lib/python3.7/dist-packages/ipykernel_launcher.py:84: SettingWithCopyWarning: \n",
            "A value is trying to be set on a copy of a slice from a DataFrame.\n",
            "Try using .loc[row_indexer,col_indexer] = value instead\n",
            "\n",
            "See the caveats in the documentation: https://pandas.pydata.org/pandas-docs/stable/user_guide/indexing.html#returning-a-view-versus-a-copy\n",
            "/usr/local/lib/python3.7/dist-packages/ipykernel_launcher.py:84: SettingWithCopyWarning: \n",
            "A value is trying to be set on a copy of a slice from a DataFrame.\n",
            "Try using .loc[row_indexer,col_indexer] = value instead\n",
            "\n",
            "See the caveats in the documentation: https://pandas.pydata.org/pandas-docs/stable/user_guide/indexing.html#returning-a-view-versus-a-copy\n",
            "/usr/local/lib/python3.7/dist-packages/ipykernel_launcher.py:84: SettingWithCopyWarning: \n",
            "A value is trying to be set on a copy of a slice from a DataFrame.\n",
            "Try using .loc[row_indexer,col_indexer] = value instead\n",
            "\n",
            "See the caveats in the documentation: https://pandas.pydata.org/pandas-docs/stable/user_guide/indexing.html#returning-a-view-versus-a-copy\n",
            "/usr/local/lib/python3.7/dist-packages/ipykernel_launcher.py:84: SettingWithCopyWarning: \n",
            "A value is trying to be set on a copy of a slice from a DataFrame.\n",
            "Try using .loc[row_indexer,col_indexer] = value instead\n",
            "\n",
            "See the caveats in the documentation: https://pandas.pydata.org/pandas-docs/stable/user_guide/indexing.html#returning-a-view-versus-a-copy\n",
            " 83%|████████▎ | 50/60 [06:38<01:33,  9.39s/it]"
          ]
        },
        {
          "output_type": "stream",
          "name": "stdout",
          "text": [
            "무면허·경찰폭행 장용준‥19일 만에야 영장 청구돼\n",
            "  word  cluster  count  length\n",
            "0   의원        2     99       2\n",
            "1  장제원        2     86       3\n",
            "무면허·경찰폭행 장용준‥19일 만에야 영장 청구돼\n",
            "   word  cluster  count  length\n",
            "0    국민        3    113       2\n",
            "1  음주운전        3     85       4\n"
          ]
        },
        {
          "output_type": "stream",
          "name": "stderr",
          "text": [
            "/usr/local/lib/python3.7/dist-packages/ipykernel_launcher.py:45: DeprecationWarning: Call to deprecated `__getitem__` (Method will be removed in 4.0.0, use self.wv.__getitem__() instead).\n",
            "/usr/local/lib/python3.7/dist-packages/ipykernel_launcher.py:47: DeprecationWarning: Call to deprecated `__getitem__` (Method will be removed in 4.0.0, use self.wv.__getitem__() instead).\n",
            "/usr/local/lib/python3.7/dist-packages/ipykernel_launcher.py:51: DeprecationWarning: Call to deprecated `__getitem__` (Method will be removed in 4.0.0, use self.wv.__getitem__() instead).\n",
            "\r 85%|████████▌ | 51/60 [06:40<01:03,  7.02s/it]"
          ]
        },
        {
          "output_type": "stream",
          "name": "stdout",
          "text": [
            "Done word2vec Training\n"
          ]
        },
        {
          "output_type": "stream",
          "name": "stderr",
          "text": [
            "/usr/local/lib/python3.7/dist-packages/ipykernel_launcher.py:45: DeprecationWarning: Call to deprecated `__getitem__` (Method will be removed in 4.0.0, use self.wv.__getitem__() instead).\n",
            "/usr/local/lib/python3.7/dist-packages/ipykernel_launcher.py:47: DeprecationWarning: Call to deprecated `__getitem__` (Method will be removed in 4.0.0, use self.wv.__getitem__() instead).\n",
            "/usr/local/lib/python3.7/dist-packages/ipykernel_launcher.py:51: DeprecationWarning: Call to deprecated `__getitem__` (Method will be removed in 4.0.0, use self.wv.__getitem__() instead).\n",
            "/usr/local/lib/python3.7/dist-packages/ipykernel_launcher.py:84: SettingWithCopyWarning: \n",
            "A value is trying to be set on a copy of a slice from a DataFrame.\n",
            "Try using .loc[row_indexer,col_indexer] = value instead\n",
            "\n",
            "See the caveats in the documentation: https://pandas.pydata.org/pandas-docs/stable/user_guide/indexing.html#returning-a-view-versus-a-copy\n",
            "/usr/local/lib/python3.7/dist-packages/ipykernel_launcher.py:84: SettingWithCopyWarning: \n",
            "A value is trying to be set on a copy of a slice from a DataFrame.\n",
            "Try using .loc[row_indexer,col_indexer] = value instead\n",
            "\n",
            "See the caveats in the documentation: https://pandas.pydata.org/pandas-docs/stable/user_guide/indexing.html#returning-a-view-versus-a-copy\n",
            "\r 87%|████████▋ | 52/60 [06:42<00:45,  5.71s/it]"
          ]
        },
        {
          "output_type": "stream",
          "name": "stdout",
          "text": [
            "Done word2vec Training\n",
            "[중국은, 왜] 中 장악한 글로벌 공급망…산시성에 비 오면 美증시 몸살 앓는다\n",
            "  word  cluster  count  length\n",
            "0   중국        0    124       2\n",
            "[중국은, 왜] 中 장악한 글로벌 공급망…산시성에 비 오면 美증시 몸살 앓는다\n",
            "  word  cluster  count  length\n",
            "0   나라        1     46       2\n"
          ]
        },
        {
          "output_type": "stream",
          "name": "stderr",
          "text": [
            "/usr/local/lib/python3.7/dist-packages/ipykernel_launcher.py:45: DeprecationWarning: Call to deprecated `__getitem__` (Method will be removed in 4.0.0, use self.wv.__getitem__() instead).\n",
            "/usr/local/lib/python3.7/dist-packages/ipykernel_launcher.py:47: DeprecationWarning: Call to deprecated `__getitem__` (Method will be removed in 4.0.0, use self.wv.__getitem__() instead).\n",
            "/usr/local/lib/python3.7/dist-packages/ipykernel_launcher.py:51: DeprecationWarning: Call to deprecated `__getitem__` (Method will be removed in 4.0.0, use self.wv.__getitem__() instead).\n",
            "/usr/local/lib/python3.7/dist-packages/ipykernel_launcher.py:84: SettingWithCopyWarning: \n",
            "A value is trying to be set on a copy of a slice from a DataFrame.\n",
            "Try using .loc[row_indexer,col_indexer] = value instead\n",
            "\n",
            "See the caveats in the documentation: https://pandas.pydata.org/pandas-docs/stable/user_guide/indexing.html#returning-a-view-versus-a-copy\n",
            "/usr/local/lib/python3.7/dist-packages/ipykernel_launcher.py:84: SettingWithCopyWarning: \n",
            "A value is trying to be set on a copy of a slice from a DataFrame.\n",
            "Try using .loc[row_indexer,col_indexer] = value instead\n",
            "\n",
            "See the caveats in the documentation: https://pandas.pydata.org/pandas-docs/stable/user_guide/indexing.html#returning-a-view-versus-a-copy\n",
            "\r 88%|████████▊ | 53/60 [06:45<00:34,  4.88s/it]"
          ]
        },
        {
          "output_type": "stream",
          "name": "stdout",
          "text": [
            "Done word2vec Training\n",
            "윤석열·홍준표·유승민·원희룡 국민의힘 본경선 진출\n",
            "  word  cluster  count  length\n",
            "0  유승민        0     35       3\n",
            "1  최재형        0     25       3\n",
            "윤석열·홍준표·유승민·원희룡 국민의힘 본경선 진출\n",
            "  word  cluster  count  length\n",
            "0  원희룡        1     26       3\n"
          ]
        },
        {
          "output_type": "stream",
          "name": "stderr",
          "text": [
            "/usr/local/lib/python3.7/dist-packages/ipykernel_launcher.py:45: DeprecationWarning: Call to deprecated `__getitem__` (Method will be removed in 4.0.0, use self.wv.__getitem__() instead).\n",
            "/usr/local/lib/python3.7/dist-packages/ipykernel_launcher.py:47: DeprecationWarning: Call to deprecated `__getitem__` (Method will be removed in 4.0.0, use self.wv.__getitem__() instead).\n",
            "/usr/local/lib/python3.7/dist-packages/ipykernel_launcher.py:51: DeprecationWarning: Call to deprecated `__getitem__` (Method will be removed in 4.0.0, use self.wv.__getitem__() instead).\n",
            "/usr/local/lib/python3.7/dist-packages/ipykernel_launcher.py:84: SettingWithCopyWarning: \n",
            "A value is trying to be set on a copy of a slice from a DataFrame.\n",
            "Try using .loc[row_indexer,col_indexer] = value instead\n",
            "\n",
            "See the caveats in the documentation: https://pandas.pydata.org/pandas-docs/stable/user_guide/indexing.html#returning-a-view-versus-a-copy\n",
            "/usr/local/lib/python3.7/dist-packages/ipykernel_launcher.py:84: SettingWithCopyWarning: \n",
            "A value is trying to be set on a copy of a slice from a DataFrame.\n",
            "Try using .loc[row_indexer,col_indexer] = value instead\n",
            "\n",
            "See the caveats in the documentation: https://pandas.pydata.org/pandas-docs/stable/user_guide/indexing.html#returning-a-view-versus-a-copy\n",
            "\r 90%|█████████ | 54/60 [06:52<00:32,  5.46s/it]"
          ]
        },
        {
          "output_type": "stream",
          "name": "stdout",
          "text": [
            "Done word2vec Training\n",
            "유승민 측 \"윤석열, 천공스승·항문침 전문가와 관계 형성돼 있다\"\n",
            "  word  cluster  count  length\n",
            "0  유승민        0    278       3\n",
            "1   똥침        0     95       2\n",
            "유승민 측 \"윤석열, 천공스승·항문침 전문가와 관계 형성돼 있다\"\n",
            "  word  cluster  count  length\n",
            "0   배신        1     80       2\n",
            "1  배신자        1     80       3\n"
          ]
        },
        {
          "output_type": "stream",
          "name": "stderr",
          "text": [
            "/usr/local/lib/python3.7/dist-packages/ipykernel_launcher.py:45: DeprecationWarning: Call to deprecated `__getitem__` (Method will be removed in 4.0.0, use self.wv.__getitem__() instead).\n",
            "/usr/local/lib/python3.7/dist-packages/ipykernel_launcher.py:47: DeprecationWarning: Call to deprecated `__getitem__` (Method will be removed in 4.0.0, use self.wv.__getitem__() instead).\n",
            "/usr/local/lib/python3.7/dist-packages/ipykernel_launcher.py:51: DeprecationWarning: Call to deprecated `__getitem__` (Method will be removed in 4.0.0, use self.wv.__getitem__() instead).\n",
            "/usr/local/lib/python3.7/dist-packages/ipykernel_launcher.py:84: SettingWithCopyWarning: \n",
            "A value is trying to be set on a copy of a slice from a DataFrame.\n",
            "Try using .loc[row_indexer,col_indexer] = value instead\n",
            "\n",
            "See the caveats in the documentation: https://pandas.pydata.org/pandas-docs/stable/user_guide/indexing.html#returning-a-view-versus-a-copy\n",
            "/usr/local/lib/python3.7/dist-packages/ipykernel_launcher.py:84: SettingWithCopyWarning: \n",
            "A value is trying to be set on a copy of a slice from a DataFrame.\n",
            "Try using .loc[row_indexer,col_indexer] = value instead\n",
            "\n",
            "See the caveats in the documentation: https://pandas.pydata.org/pandas-docs/stable/user_guide/indexing.html#returning-a-view-versus-a-copy\n",
            "/usr/local/lib/python3.7/dist-packages/ipykernel_launcher.py:84: SettingWithCopyWarning: \n",
            "A value is trying to be set on a copy of a slice from a DataFrame.\n",
            "Try using .loc[row_indexer,col_indexer] = value instead\n",
            "\n",
            "See the caveats in the documentation: https://pandas.pydata.org/pandas-docs/stable/user_guide/indexing.html#returning-a-view-versus-a-copy\n",
            "\r 92%|█████████▏| 55/60 [06:57<00:26,  5.32s/it]"
          ]
        },
        {
          "output_type": "stream",
          "name": "stdout",
          "text": [
            "Done word2vec Training\n",
            "[속보]윤석열·홍준표·유승민·원희룡, 국민의힘 2차 컷오프 통과\n",
            "  word  cluster  count  length\n",
            "0  홍준표        0     59       3\n",
            "1  황교안        0     44       3\n",
            "[속보]윤석열·홍준표·유승민·원희룡, 국민의힘 2차 컷오프 통과\n",
            "  word  cluster  count  length\n",
            "0  원희룡        1     75       3\n",
            "1  대통령        1     27       3\n",
            "[속보]윤석열·홍준표·유승민·원희룡, 국민의힘 2차 컷오프 통과\n",
            "  word  cluster  count  length\n",
            "0  유승민        2    127       3\n",
            "1   후보        2     63       2\n"
          ]
        },
        {
          "output_type": "stream",
          "name": "stderr",
          "text": [
            "/usr/local/lib/python3.7/dist-packages/ipykernel_launcher.py:45: DeprecationWarning: Call to deprecated `__getitem__` (Method will be removed in 4.0.0, use self.wv.__getitem__() instead).\n",
            "/usr/local/lib/python3.7/dist-packages/ipykernel_launcher.py:47: DeprecationWarning: Call to deprecated `__getitem__` (Method will be removed in 4.0.0, use self.wv.__getitem__() instead).\n",
            "/usr/local/lib/python3.7/dist-packages/ipykernel_launcher.py:51: DeprecationWarning: Call to deprecated `__getitem__` (Method will be removed in 4.0.0, use self.wv.__getitem__() instead).\n",
            "/usr/local/lib/python3.7/dist-packages/ipykernel_launcher.py:84: SettingWithCopyWarning: \n",
            "A value is trying to be set on a copy of a slice from a DataFrame.\n",
            "Try using .loc[row_indexer,col_indexer] = value instead\n",
            "\n",
            "See the caveats in the documentation: https://pandas.pydata.org/pandas-docs/stable/user_guide/indexing.html#returning-a-view-versus-a-copy\n",
            "/usr/local/lib/python3.7/dist-packages/ipykernel_launcher.py:84: SettingWithCopyWarning: \n",
            "A value is trying to be set on a copy of a slice from a DataFrame.\n",
            "Try using .loc[row_indexer,col_indexer] = value instead\n",
            "\n",
            "See the caveats in the documentation: https://pandas.pydata.org/pandas-docs/stable/user_guide/indexing.html#returning-a-view-versus-a-copy\n",
            "\r 93%|█████████▎| 56/60 [07:00<00:18,  4.55s/it]"
          ]
        },
        {
          "output_type": "stream",
          "name": "stdout",
          "text": [
            "Done word2vec Training\n",
            "유승민측 \"천공,'檢총장 사퇴날짜' 조언·尹관련 강의 9차례…따질 수밖에\"\n",
            "Empty DataFrame\n",
            "Columns: [word, cluster, count, length]\n",
            "Index: []\n",
            "유승민측 \"천공,'檢총장 사퇴날짜' 조언·尹관련 강의 9차례…따질 수밖에\"\n",
            "  word  cluster  count  length\n",
            "0  유승민        1     97       3\n",
            "1  윤석열        1     49       3\n"
          ]
        },
        {
          "output_type": "stream",
          "name": "stderr",
          "text": [
            "/usr/local/lib/python3.7/dist-packages/ipykernel_launcher.py:45: DeprecationWarning: Call to deprecated `__getitem__` (Method will be removed in 4.0.0, use self.wv.__getitem__() instead).\n",
            "/usr/local/lib/python3.7/dist-packages/ipykernel_launcher.py:47: DeprecationWarning: Call to deprecated `__getitem__` (Method will be removed in 4.0.0, use self.wv.__getitem__() instead).\n",
            "/usr/local/lib/python3.7/dist-packages/ipykernel_launcher.py:51: DeprecationWarning: Call to deprecated `__getitem__` (Method will be removed in 4.0.0, use self.wv.__getitem__() instead).\n",
            "/usr/local/lib/python3.7/dist-packages/ipykernel_launcher.py:84: SettingWithCopyWarning: \n",
            "A value is trying to be set on a copy of a slice from a DataFrame.\n",
            "Try using .loc[row_indexer,col_indexer] = value instead\n",
            "\n",
            "See the caveats in the documentation: https://pandas.pydata.org/pandas-docs/stable/user_guide/indexing.html#returning-a-view-versus-a-copy\n",
            "/usr/local/lib/python3.7/dist-packages/ipykernel_launcher.py:84: SettingWithCopyWarning: \n",
            "A value is trying to be set on a copy of a slice from a DataFrame.\n",
            "Try using .loc[row_indexer,col_indexer] = value instead\n",
            "\n",
            "See the caveats in the documentation: https://pandas.pydata.org/pandas-docs/stable/user_guide/indexing.html#returning-a-view-versus-a-copy\n",
            "\r 95%|█████████▌| 57/60 [07:02<00:11,  3.96s/it]"
          ]
        },
        {
          "output_type": "stream",
          "name": "stdout",
          "text": [
            "Done word2vec Training\n",
            "이낙연 캠프 “이재명 구속될 수도”…원팀 가능할까\n",
            "  word  cluster  count  length\n",
            "0  이낙연        0     72       3\n",
            "1  이재명        0     55       3\n",
            "이낙연 캠프 “이재명 구속될 수도”…원팀 가능할까\n",
            "  word  cluster  count  length\n",
            "0  민주당        1     33       3\n"
          ]
        },
        {
          "output_type": "stream",
          "name": "stderr",
          "text": [
            "/usr/local/lib/python3.7/dist-packages/ipykernel_launcher.py:45: DeprecationWarning: Call to deprecated `__getitem__` (Method will be removed in 4.0.0, use self.wv.__getitem__() instead).\n",
            "/usr/local/lib/python3.7/dist-packages/ipykernel_launcher.py:47: DeprecationWarning: Call to deprecated `__getitem__` (Method will be removed in 4.0.0, use self.wv.__getitem__() instead).\n",
            "/usr/local/lib/python3.7/dist-packages/ipykernel_launcher.py:51: DeprecationWarning: Call to deprecated `__getitem__` (Method will be removed in 4.0.0, use self.wv.__getitem__() instead).\n",
            "/usr/local/lib/python3.7/dist-packages/ipykernel_launcher.py:84: SettingWithCopyWarning: \n",
            "A value is trying to be set on a copy of a slice from a DataFrame.\n",
            "Try using .loc[row_indexer,col_indexer] = value instead\n",
            "\n",
            "See the caveats in the documentation: https://pandas.pydata.org/pandas-docs/stable/user_guide/indexing.html#returning-a-view-versus-a-copy\n",
            "/usr/local/lib/python3.7/dist-packages/ipykernel_launcher.py:84: SettingWithCopyWarning: \n",
            "A value is trying to be set on a copy of a slice from a DataFrame.\n",
            "Try using .loc[row_indexer,col_indexer] = value instead\n",
            "\n",
            "See the caveats in the documentation: https://pandas.pydata.org/pandas-docs/stable/user_guide/indexing.html#returning-a-view-versus-a-copy\n",
            "/usr/local/lib/python3.7/dist-packages/ipykernel_launcher.py:84: SettingWithCopyWarning: \n",
            "A value is trying to be set on a copy of a slice from a DataFrame.\n",
            "Try using .loc[row_indexer,col_indexer] = value instead\n",
            "\n",
            "See the caveats in the documentation: https://pandas.pydata.org/pandas-docs/stable/user_guide/indexing.html#returning-a-view-versus-a-copy\n",
            "\r 97%|█████████▋| 58/60 [07:05<00:07,  3.66s/it]"
          ]
        },
        {
          "output_type": "stream",
          "name": "stdout",
          "text": [
            "Done word2vec Training\n",
            "이준석 “이재명, 무능이냐 부패냐 딜레마”…野 ‘대장동 특검’ 천막농성\n",
            "  word  cluster  count  length\n",
            "0   국민        0     41       2\n",
            "이준석 “이재명, 무능이냐 부패냐 딜레마”…野 ‘대장동 특검’ 천막농성\n",
            "  word  cluster  count  length\n",
            "0   특검        1     39       2\n",
            "이준석 “이재명, 무능이냐 부패냐 딜레마”…野 ‘대장동 특검’ 천막농성\n",
            "  word  cluster  count  length\n",
            "0   국짐        2     36       2\n",
            "1  이재명        2     35       3\n",
            "Done word2vec Training\n"
          ]
        },
        {
          "output_type": "stream",
          "name": "stderr",
          "text": [
            "/usr/local/lib/python3.7/dist-packages/ipykernel_launcher.py:45: DeprecationWarning: Call to deprecated `__getitem__` (Method will be removed in 4.0.0, use self.wv.__getitem__() instead).\n",
            "/usr/local/lib/python3.7/dist-packages/ipykernel_launcher.py:47: DeprecationWarning: Call to deprecated `__getitem__` (Method will be removed in 4.0.0, use self.wv.__getitem__() instead).\n",
            "/usr/local/lib/python3.7/dist-packages/ipykernel_launcher.py:51: DeprecationWarning: Call to deprecated `__getitem__` (Method will be removed in 4.0.0, use self.wv.__getitem__() instead).\n",
            "/usr/local/lib/python3.7/dist-packages/ipykernel_launcher.py:84: SettingWithCopyWarning: \n",
            "A value is trying to be set on a copy of a slice from a DataFrame.\n",
            "Try using .loc[row_indexer,col_indexer] = value instead\n",
            "\n",
            "See the caveats in the documentation: https://pandas.pydata.org/pandas-docs/stable/user_guide/indexing.html#returning-a-view-versus-a-copy\n",
            "/usr/local/lib/python3.7/dist-packages/ipykernel_launcher.py:84: SettingWithCopyWarning: \n",
            "A value is trying to be set on a copy of a slice from a DataFrame.\n",
            "Try using .loc[row_indexer,col_indexer] = value instead\n",
            "\n",
            "See the caveats in the documentation: https://pandas.pydata.org/pandas-docs/stable/user_guide/indexing.html#returning-a-view-versus-a-copy\n",
            " 98%|█████████▊| 59/60 [07:18<00:06,  6.45s/it]"
          ]
        },
        {
          "output_type": "stream",
          "name": "stdout",
          "text": [
            "40대 가장 폭행한 만취녀 또 사과문자…\"3000만원 드릴까 한다\"\n",
            "  word  cluster  count  length\n",
            "0  합의금        0    254       3\n",
            "1   정도        0    230       2\n",
            "40대 가장 폭행한 만취녀 또 사과문자…\"3000만원 드릴까 한다\"\n",
            "  word  cluster  count  length\n",
            "0   합의        1    250       2\n",
            "1   사과        1    185       2\n"
          ]
        },
        {
          "output_type": "stream",
          "name": "stderr",
          "text": [
            "/usr/local/lib/python3.7/dist-packages/ipykernel_launcher.py:45: DeprecationWarning: Call to deprecated `__getitem__` (Method will be removed in 4.0.0, use self.wv.__getitem__() instead).\n",
            "/usr/local/lib/python3.7/dist-packages/ipykernel_launcher.py:47: DeprecationWarning: Call to deprecated `__getitem__` (Method will be removed in 4.0.0, use self.wv.__getitem__() instead).\n",
            "/usr/local/lib/python3.7/dist-packages/ipykernel_launcher.py:51: DeprecationWarning: Call to deprecated `__getitem__` (Method will be removed in 4.0.0, use self.wv.__getitem__() instead).\n",
            "/usr/local/lib/python3.7/dist-packages/ipykernel_launcher.py:84: SettingWithCopyWarning: \n",
            "A value is trying to be set on a copy of a slice from a DataFrame.\n",
            "Try using .loc[row_indexer,col_indexer] = value instead\n",
            "\n",
            "See the caveats in the documentation: https://pandas.pydata.org/pandas-docs/stable/user_guide/indexing.html#returning-a-view-versus-a-copy\n",
            "/usr/local/lib/python3.7/dist-packages/ipykernel_launcher.py:84: SettingWithCopyWarning: \n",
            "A value is trying to be set on a copy of a slice from a DataFrame.\n",
            "Try using .loc[row_indexer,col_indexer] = value instead\n",
            "\n",
            "See the caveats in the documentation: https://pandas.pydata.org/pandas-docs/stable/user_guide/indexing.html#returning-a-view-versus-a-copy\n",
            "/usr/local/lib/python3.7/dist-packages/ipykernel_launcher.py:84: SettingWithCopyWarning: \n",
            "A value is trying to be set on a copy of a slice from a DataFrame.\n",
            "Try using .loc[row_indexer,col_indexer] = value instead\n",
            "\n",
            "See the caveats in the documentation: https://pandas.pydata.org/pandas-docs/stable/user_guide/indexing.html#returning-a-view-versus-a-copy\n",
            "/usr/local/lib/python3.7/dist-packages/ipykernel_launcher.py:84: SettingWithCopyWarning: \n",
            "A value is trying to be set on a copy of a slice from a DataFrame.\n",
            "Try using .loc[row_indexer,col_indexer] = value instead\n",
            "\n",
            "See the caveats in the documentation: https://pandas.pydata.org/pandas-docs/stable/user_guide/indexing.html#returning-a-view-versus-a-copy\n",
            "100%|██████████| 60/60 [07:22<00:00,  7.37s/it]"
          ]
        },
        {
          "output_type": "stream",
          "name": "stdout",
          "text": [
            "Done word2vec Training\n",
            "홍준표·윤석열·유승민·원희룡, 野 대선 최종 경선 진출(2보)\n",
            "  word  cluster  count  length\n",
            "0  원희룡        0     32       3\n",
            "홍준표·윤석열·유승민·원희룡, 野 대선 최종 경선 진출(2보)\n",
            "  word  cluster  count  length\n",
            "0  유승민        1     68       3\n",
            "1  윤석열        1     41       3\n",
            "홍준표·윤석열·유승민·원희룡, 野 대선 최종 경선 진출(2보)\n",
            "  word  cluster  count  length\n",
            "0  홍준표        2     63       3\n",
            "홍준표·윤석열·유승민·원희룡, 野 대선 최종 경선 진출(2보)\n",
            "  word  cluster  count  length\n",
            "0  최재형        3     32       3\n"
          ]
        },
        {
          "output_type": "stream",
          "name": "stderr",
          "text": [
            "\n"
          ]
        }
      ]
    },
    {
      "cell_type": "code",
      "metadata": {
        "id": "_SeW-cso7hru"
      },
      "source": [
        "keyword_extract_df = pd.DataFrame(df_list)\n",
        "keyword_extract_df.to_csv(\"data/keyword_silhouette_2.csv\", index=False, encoding='utf-8-sig')"
      ],
      "execution_count": 20,
      "outputs": []
    },
    {
      "cell_type": "code",
      "metadata": {
        "id": "067ptZ8yAcim"
      },
      "source": [
        ""
      ],
      "execution_count": null,
      "outputs": []
    },
    {
      "cell_type": "code",
      "metadata": {
        "id": "AxhorcLNAck7"
      },
      "source": [
        ""
      ],
      "execution_count": null,
      "outputs": []
    },
    {
      "cell_type": "code",
      "metadata": {
        "id": "vD0lcKiRAcnT"
      },
      "source": [
        ""
      ],
      "execution_count": null,
      "outputs": []
    },
    {
      "cell_type": "code",
      "metadata": {
        "id": "rmVJ2o05Acp0"
      },
      "source": [
        ""
      ],
      "execution_count": null,
      "outputs": []
    },
    {
      "cell_type": "code",
      "metadata": {
        "id": "RgalcqbEAcsH"
      },
      "source": [
        ""
      ],
      "execution_count": null,
      "outputs": []
    },
    {
      "cell_type": "code",
      "metadata": {
        "id": "KlQ8swcsAcux"
      },
      "source": [
        ""
      ],
      "execution_count": null,
      "outputs": []
    },
    {
      "cell_type": "code",
      "metadata": {
        "id": "0KSMGwFSAcxS"
      },
      "source": [
        ""
      ],
      "execution_count": null,
      "outputs": []
    },
    {
      "cell_type": "code",
      "metadata": {
        "id": "wi_-CZ8fAczn"
      },
      "source": [
        ""
      ],
      "execution_count": null,
      "outputs": []
    },
    {
      "cell_type": "code",
      "metadata": {
        "id": "2bI4xc1-Ac2H"
      },
      "source": [
        ""
      ],
      "execution_count": null,
      "outputs": []
    },
    {
      "cell_type": "code",
      "metadata": {
        "id": "NageJ2LnAc4s"
      },
      "source": [
        ""
      ],
      "execution_count": null,
      "outputs": []
    },
    {
      "cell_type": "code",
      "metadata": {
        "id": "06TWFagaAc6_"
      },
      "source": [
        ""
      ],
      "execution_count": null,
      "outputs": []
    },
    {
      "cell_type": "code",
      "metadata": {
        "id": "VgfnD36FAc_G"
      },
      "source": [
        ""
      ],
      "execution_count": null,
      "outputs": []
    },
    {
      "cell_type": "code",
      "metadata": {
        "id": "7LDYRPhUAdEa"
      },
      "source": [
        ""
      ],
      "execution_count": null,
      "outputs": []
    },
    {
      "cell_type": "code",
      "metadata": {
        "id": "HA9W9Lo2AdG9"
      },
      "source": [
        ""
      ],
      "execution_count": null,
      "outputs": []
    }
  ]
}